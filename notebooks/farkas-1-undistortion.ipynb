{
 "cells": [
  {
   "cell_type": "code",
   "execution_count": 1,
   "metadata": {},
   "outputs": [],
   "source": [
    "import numpy as np\n",
    "import cv2\n",
    "import matplotlib.pyplot as plt\n",
    "import os\n",
    "from pathlib import Path"
   ]
  },
  {
   "cell_type": "code",
   "execution_count": 3,
   "metadata": {},
   "outputs": [],
   "source": [
    "root_dir = Path().cwd().parent\n",
    "calib_dir = root_dir / 'data/raw/final_project/calib'\n",
    "interim_dir = root_dir / 'data/interim'\n",
    "interim_dir.mkdir(parents=True, exist_ok=True)\n",
    "undistorted_dir = interim_dir / 'undistorted/seq_01'\n",
    "undistorted_dir.mkdir(parents=True, exist_ok=True)\n",
    "undistort_dir = root_dir / 'data/raw/final_project/seq_01'"
   ]
  },
  {
   "cell_type": "code",
   "execution_count": 4,
   "metadata": {},
   "outputs": [],
   "source": [
    "calib_folders = os.listdir(calib_dir)\n",
    "\n",
    "for folder in calib_folders:\n",
    "    images = os.listdir(calib_dir / folder / 'data')\n",
    "    \n",
    "    objpoints = []\n",
    "    imgpoints = []\n",
    "    \n",
    "    im = cv2.imread(str(calib_dir / folder / 'data' / images[0]))\n",
    "    im_gray = cv2.cvtColor(im, cv2.COLOR_BGR2GRAY)\n",
    "    for v,h in zip([5,7,5], [7,11,15]):\n",
    "        ret = True\n",
    "        while ret:\n",
    "            ret, corners = cv2.findChessboardCorners(im_gray, (v,h))\n",
    "            #if not ret: ret, corners = cv2.findChessboardCornersSB(im_gray, (v,h))\n",
    "            if not ret: break\n",
    "            \n",
    "            imgpoints.append(corners)\n",
    "            objp = np.zeros((h*v,3), np.float32)\n",
    "            objp[:,:2] = np.mgrid[0:v,0:h].T.reshape(-1,2)\n",
    "            objpoints.append(objp)\n",
    "            \n",
    "            start_x = int(np.min(corners[:,0].T[0]))\n",
    "            end_x = int(np.max(corners[:,0].T[0]))\n",
    "            start_y = int(np.min(corners[:,0].T[1]))\n",
    "            end_y = int(np.max(corners[:,0].T[1]))\n",
    "            im_gray = cv2.rectangle(im_gray, (start_x, start_y), (end_x, end_y), 0, -1)\n",
    "\n",
    "    cv2.imshow('im', im_gray)\n",
    "    cv2.waitKey(0)\n",
    "    cv2.destroyAllWindows()\n",
    "    \n",
    "    ret, mtx, dist, rvecs, tvecs = cv2.calibrateCamera(objpoints, imgpoints, im_gray.shape[::-1], None, None)\n",
    "\n",
    "undistort_folders = []\n",
    "for f in os.listdir(undistort_dir):\n",
    "    d = os.path.join(undistort_dir, f)\n",
    "    if os.path.isdir(d): undistort_folders.append(f)\n",
    "for folder in undistort_folders:\n",
    "    images = os.listdir(undistort_dir / folder / 'data')\n",
    "    for image in images:\n",
    "        im = cv2.imread(str(undistort_dir / folder / 'data' / image))\n",
    "        im_gray = cv2.cvtColor(im, cv2.COLOR_BGR2GRAY)\n",
    "        h,w = im.shape[:2]\n",
    "        newcameramtx, roi = cv2.getOptimalNewCameraMatrix(mtx,dist,(w,h),1,(w,h))\n",
    "        dst = cv2.undistort(im, mtx, dist, None, newcameramtx)\n",
    "        dst = dst[roi[1]:roi[1]+roi[3],roi[0]:roi[0]+roi[2]]\n",
    "        (undistorted_dir / folder).mkdir(parents=True, exist_ok=True)\n",
    "        cv2.imwrite(str(undistorted_dir / folder / os.path.split(image)[-1]), dst)"
   ]
  },
  {
   "cell_type": "code",
   "execution_count": 11,
   "metadata": {},
   "outputs": [
    {
     "name": "stdout",
     "output_type": "stream",
     "text": [
      "Checkerboard cannot be found on image 11.png\n",
      "Checkerboard cannot be found on image 12.png\n",
      "Checkerboard cannot be found on image 2.png\n",
      "Checkerboard cannot be found on image 4.png\n",
      "Checkerboard cannot be found on image 7.png\n",
      "Checkerboard cannot be found on image 9.png\n"
     ]
    }
   ],
   "source": [
    "calib_images_path = Path('../data/interim/calib_checkerboards_1by1/image_03')\n",
    "max_corners = 15\n",
    "image_to_undistort = Path('../data/raw/final_project/calib/image_03/data/0000000000.png')\n",
    "\n",
    "image_names = os.listdir(calib_images_path)\n",
    "objpoints = []\n",
    "imgpoints = []\n",
    "vh = []\n",
    "for v in range(3,max_corners+1):\n",
    "    for h in range(v,max_corners+1):\n",
    "        vh.append([v, h])\n",
    "vh = np.flip(np.asarray(vh))\n",
    "for image_name in image_names:\n",
    "    image = cv2.imread(str(calib_images_path / image_name))\n",
    "    image_gray = cv2.cvtColor(image, cv2.COLOR_BGR2GRAY)\n",
    "    for v, h in zip([5,7,5], [15,11,7]):\n",
    "        ret, corners = cv2.findChessboardCorners(image_gray, (v,h))\n",
    "        if ret: break\n",
    "    if ret:\n",
    "        with_corners = cv2.drawChessboardCorners(image_gray, (v,h), corners, ret)\n",
    "        cv2.imshow('checkerboard', with_corners)\n",
    "        cv2.waitKey(0)\n",
    "        cv2.destroyAllWindows()\n",
    "\n",
    "        imgpoints.append(corners)\n",
    "        objp = np.zeros((v*h,3), np.float32)\n",
    "        objp[:,:2] = np.mgrid[0:v,0:h].T.reshape(-1,2)\n",
    "        objpoints.append(objp)\n",
    "    else:\n",
    "        print('Checkerboard cannot be found on image '+image_name)\n",
    "ret, mtx, dist, _, _ = cv2.calibrateCamera(objpoints, imgpoints, image_gray.shape[::-1], None, None)\n",
    "assert ret, 'Undistortion parameters cannot be calculated.'\n",
    "\n",
    "image = cv2.imread(str(image_to_undistort))\n",
    "h, w = image.shape[:2]\n",
    "newcameramtx, roi = cv2.getOptimalNewCameraMatrix(mtx, dist, (w, h), 1, (w, h))\n",
    "dst = cv2.undistort(image, mtx, dist, None, newcameramtx)\n",
    "# dst = dst[roi[1]:roi[1]+roi[3],roi[0]:roi[0]+roi[2]]\n",
    "cv2.imshow('dst', dst)\n",
    "cv2.waitKey(0)\n",
    "cv2.destroyAllWindows()"
   ]
  },
  {
   "cell_type": "code",
   "execution_count": 24,
   "metadata": {},
   "outputs": [
    {
     "name": "stdout",
     "output_type": "stream",
     "text": [
      "False\n"
     ]
    }
   ],
   "source": [
    "image = cv2.imread('../data/interim/calib_checkerboards_1by1/image_02_test/4.png')\n",
    "image_gray = cv2.cvtColor(image, cv2.COLOR_BGR2GRAY)\n",
    "cv2.imshow('im', image_gray)\n",
    "cv2.waitKey(0)\n",
    "cv2.destroyAllWindows()\n",
    "ret, corners = cv2.findChessboardCorners(image_gray, (5,7))\n",
    "print(ret)"
   ]
  },
  {
   "cell_type": "code",
   "execution_count": 20,
   "metadata": {},
   "outputs": [
    {
     "name": "stdout",
     "output_type": "stream",
     "text": [
      "3 checkerboards was found on the image.\n",
      "[[978.7638968    0.         707.10302473]\n",
      " [  0.         974.5535797  260.05961915]\n",
      " [  0.           0.           1.        ]]\n",
      "[[-0.24549647  0.03799705  0.00259864 -0.00431458 -0.002185  ]]\n",
      "[[978.7638968    0.         707.10302473]\n",
      " [  0.         974.5535797  260.05961915]\n",
      " [  0.           0.           1.        ]]\n",
      "[[-0.24549647  0.03799705  0.00259864 -0.00431458 -0.002185  ]]\n"
     ]
    }
   ],
   "source": [
    "calib_image_path = Path('../data/raw/final_project/calib/image_03/data/0000000000.png')\n",
    "image_to_undistort = Path('../data/raw/final_project/calib/image_03/data/0000000000.png')\n",
    "max_corners = 15\n",
    "\n",
    "objpoints = []\n",
    "imgpoints = []\n",
    "image = cv2.imread(str(calib_image_path))\n",
    "image_gray = cv2.cvtColor(image, cv2.COLOR_BGR2GRAY)\n",
    "checkerboards_cnt = 0\n",
    "for v, h in zip([5,7,5], [15,11,7]):\n",
    "    ret, corners = cv2.findChessboardCorners(image_gray, (v,h))\n",
    "    while ret:\n",
    "        imgpoints.append(corners)\n",
    "        objp = np.zeros((v*h,3), np.float32)\n",
    "        objp[:,:2] = np.mgrid[0:v,0:h].T.reshape(-1,2)\n",
    "        objpoints.append(objp)\n",
    "        start_x = int(np.min(corners[:,0].T[0]))\n",
    "        end_x = int(np.max(corners[:,0].T[0]))\n",
    "        start_y = int(np.min(corners[:,0].T[1]))\n",
    "        end_y = int(np.max(corners[:,0].T[1]))\n",
    "        image_gray = cv2.rectangle(image_gray, (start_x, start_y), (end_x, end_y), 0, -1)\n",
    "        checkerboards_cnt += 1\n",
    "        ret, corners = cv2.findChessboardCorners(image_gray, (v,h))\n",
    "print(checkerboards_cnt, 'checkerboards was found on the image.')\n",
    "\n",
    "ret, mtx, dist, _, _ = cv2.calibrateCamera(objpoints, imgpoints, image_gray.shape[::-1], None, None)\n",
    "assert ret, 'Undistortion parameters cannot be calculated.'\n",
    "\n",
    "print(mtx)\n",
    "print(dist)\n",
    "\n",
    "import json\n",
    "data_dict = {'mtx': mtx.tolist(), 'dist': dist.tolist()}\n",
    "with open('C:/Users/jakab/Desktop/test.json', 'w') as output_file:\n",
    "    json.dump(data_dict, output_file)\n",
    "with open('C:/Users/jakab/Desktop/test.json', 'r') as input_file:\n",
    "    data_dict = json.load(input_file)\n",
    "mtx = np.asarray(data_dict['mtx'])\n",
    "dist = np.asarray(data_dict['dist'])\n",
    "\n",
    "print(mtx)\n",
    "print(dist)\n",
    "\n",
    "image = cv2.imread(str(image_to_undistort))\n",
    "h, w = image.shape[:2]\n",
    "newcameramtx, roi = cv2.getOptimalNewCameraMatrix(mtx, dist, (w, h), 1, (w, h))\n",
    "dst = cv2.undistort(image, mtx, dist, None, newcameramtx)\n",
    "dst = dst[roi[1]:roi[1]+roi[3],roi[0]:roi[0]+roi[2]]\n",
    "#cv2.imshow('dst', dst)\n",
    "#cv2.waitKey(0)\n",
    "#cv2.destroyAllWindows()"
   ]
  },
  {
   "cell_type": "code",
   "execution_count": null,
   "metadata": {},
   "outputs": [],
   "source": []
  }
 ],
 "metadata": {
  "kernelspec": {
   "display_name": "pfas_project",
   "language": "python",
   "name": "python3"
  },
  "language_info": {
   "codemirror_mode": {
    "name": "ipython",
    "version": 3
   },
   "file_extension": ".py",
   "mimetype": "text/x-python",
   "name": "python",
   "nbconvert_exporter": "python",
   "pygments_lexer": "ipython3",
   "version": "3.11.2"
  },
  "orig_nbformat": 4,
  "vscode": {
   "interpreter": {
    "hash": "6c3b376086c63f555095058b95e42cb4a9be510a264f9d5938d3aec9df01ffed"
   }
  }
 },
 "nbformat": 4,
 "nbformat_minor": 2
}

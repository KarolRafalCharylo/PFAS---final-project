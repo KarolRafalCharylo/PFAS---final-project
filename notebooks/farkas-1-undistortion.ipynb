{
 "cells": [
  {
   "cell_type": "code",
   "execution_count": 2,
   "metadata": {},
   "outputs": [],
   "source": [
    "import numpy as np\n",
    "import cv2\n",
    "import matplotlib.pyplot as plt\n",
    "import os\n",
    "from pathlib import Path"
   ]
  },
  {
   "cell_type": "code",
   "execution_count": 5,
   "metadata": {},
   "outputs": [],
   "source": [
    "root_dir = Path().cwd().parent\n",
    "calib_dir = root_dir / 'data/raw/final_project/calib'\n",
    "interim_dir = root_dir / 'data/interim'\n",
    "interim_dir.mkdir(parents=True, exist_ok=True)\n",
    "undistorted_dir = interim_dir / 'undistorted'\n",
    "undistorted_dir.mkdir(parents=True, exist_ok=True)"
   ]
  },
  {
   "cell_type": "code",
   "execution_count": 10,
   "metadata": {},
   "outputs": [],
   "source": [
    "folders = os.listdir(calib_dir)\n",
    "\n",
    "for folder in folders:\n",
    "    images = os.listdir(calib_dir / folder / 'data')\n",
    "    \n",
    "    objpoints = []\n",
    "    imgpoints = []\n",
    "    \n",
    "    im = cv2.imread(str(calib_dir / folder / 'data' / images[0]))\n",
    "    im_gray = cv2.cvtColor(im, cv2.COLOR_BGR2GRAY)\n",
    "    for v,h in zip([5,7,5], [7,11,15]):\n",
    "        ret = True\n",
    "        while ret:\n",
    "            ret, corners = cv2.findChessboardCorners(im_gray, (v,h))\n",
    "            #if not ret: ret, corners = cv2.findChessboardCornersSB(im_gray, (v,h))\n",
    "            if not ret: break\n",
    "            \n",
    "            imgpoints.append(corners)\n",
    "            objp = np.zeros((h*v,3), np.float32)\n",
    "            objp[:,:2] = np.mgrid[0:v,0:h].T.reshape(-1,2)\n",
    "            objpoints.append(objp)\n",
    "            \n",
    "            start_x = int(np.min(corners[:,0].T[0]))\n",
    "            end_x = int(np.max(corners[:,0].T[0]))\n",
    "            start_y = int(np.min(corners[:,0].T[1]))\n",
    "            end_y = int(np.max(corners[:,0].T[1]))\n",
    "            im_gray = cv2.rectangle(im_gray, (start_x, start_y), (end_x, end_y), 0, -1)\n",
    "\n",
    "    #cv2.imshow('im', im_gray)\n",
    "    #cv2.waitKey(0)\n",
    "    #cv2.destroyAllWindows()\n",
    "    \n",
    "    ret, mtx, dist, rvecs, tvecs = cv2.calibrateCamera(objpoints, imgpoints, im_gray.shape[::-1], None, None)\n",
    "\n",
    "    for image in images:\n",
    "        im = cv2.imread(str(calib_dir / folder / 'data' / image))\n",
    "        im_gray = cv2.cvtColor(im, cv2.COLOR_BGR2GRAY)\n",
    "        h,w = im.shape[:2]\n",
    "        newcameramtx, roi = cv2.getOptimalNewCameraMatrix(mtx,dist,(w,h),1,(w,h))\n",
    "        dst = cv2.undistort(im, mtx, dist, None, newcameramtx)\n",
    "        dst = dst[roi[1]:roi[1]+roi[3],roi[0]:roi[0]+roi[2]]\n",
    "        (undistorted_dir / folder).mkdir(parents=True, exist_ok=True)\n",
    "        cv2.imwrite(str(undistorted_dir / folder / os.path.split(image)[-1]), dst)"
   ]
  },
  {
   "cell_type": "code",
   "execution_count": 2,
   "metadata": {},
   "outputs": [],
   "source": []
  },
  {
   "cell_type": "code",
   "execution_count": null,
   "metadata": {},
   "outputs": [],
   "source": []
  }
 ],
 "metadata": {
  "kernelspec": {
   "display_name": "pfas_project",
   "language": "python",
   "name": "python3"
  },
  "language_info": {
   "codemirror_mode": {
    "name": "ipython",
    "version": 3
   },
   "file_extension": ".py",
   "mimetype": "text/x-python",
   "name": "python",
   "nbconvert_exporter": "python",
   "pygments_lexer": "ipython3",
   "version": "3.11.2"
  },
  "orig_nbformat": 4,
  "vscode": {
   "interpreter": {
    "hash": "6c3b376086c63f555095058b95e42cb4a9be510a264f9d5938d3aec9df01ffed"
   }
  }
 },
 "nbformat": 4,
 "nbformat_minor": 2
}

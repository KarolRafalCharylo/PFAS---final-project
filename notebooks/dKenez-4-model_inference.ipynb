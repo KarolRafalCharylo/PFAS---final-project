{
 "cells": [
  {
   "cell_type": "code",
   "execution_count": 1,
   "metadata": {},
   "outputs": [],
   "source": [
    "import torch\n",
    "from pathlib import Path\n",
    "import numpy as np\n",
    "import scipy\n",
    "#from skimage import io\n",
    "import pandas as pd\n",
    "import cv2\n",
    "import matplotlib.pyplot as plt\n",
    "#%matplotlib inline"
   ]
  },
  {
   "cell_type": "code",
   "execution_count": 2,
   "metadata": {},
   "outputs": [
    {
     "data": {
      "text/plain": [
       "WindowsPath('c:/Users/jakab/Documents/University/DTU/2023_spring/Perception_for_AS/Final_project/PFAS---final-project/data')"
      ]
     },
     "execution_count": 2,
     "metadata": {},
     "output_type": "execute_result"
    }
   ],
   "source": [
    "root_dir = Path.cwd().parent\n",
    "data_dir = root_dir / 'data'\n",
    "model_dir = root_dir / 'models'\n",
    "\n",
    "root_dir\n",
    "data_dir"
   ]
  },
  {
   "cell_type": "code",
   "execution_count": 3,
   "metadata": {},
   "outputs": [
    {
     "name": "stderr",
     "output_type": "stream",
     "text": [
      "Downloading: \"https://github.com/ultralytics/yolov5/zipball/master\" to C:\\Users\\jakab/.cache\\torch\\hub\\master.zip\n",
      "YOLOv5  2023-5-1 Python-3.11.2 torch-2.0.0+cpu CPU\n",
      "\n",
      "Fusing layers... \n"
     ]
    },
    {
     "name": "stdout",
     "output_type": "stream",
     "text": [
      "\u001b[31m\u001b[1mrequirements:\u001b[0m C:\\Users\\jakab\\.cache\\torch\\hub\\requirements.txt not found, check failed.\n"
     ]
    },
    {
     "name": "stderr",
     "output_type": "stream",
     "text": [
      "YOLOv5s summary: 157 layers, 7018216 parameters, 0 gradients\n",
      "Adding AutoShape... \n"
     ]
    }
   ],
   "source": [
    "# Model\n",
    "model = torch.hub.load('ultralytics/yolov5', 'custom', path=model_dir / 'best.pt', force_reload=True)"
   ]
  },
  {
   "cell_type": "code",
   "execution_count": 4,
   "metadata": {},
   "outputs": [],
   "source": [
    "model.eval();"
   ]
  },
  {
   "cell_type": "code",
   "execution_count": 5,
   "metadata": {},
   "outputs": [],
   "source": [
    "img_left_path = data_dir / \"raw/final_project_2023_rect/seq_03/image_02/data/0000000005.png\"  # or file, Path, PIL, OpenCV, numpy, list\n",
    "img_right_path = data_dir / \"raw/final_project_2023_rect/seq_03/image_03/data/0000000005.png\"  # or file, Path, PIL, OpenCV, numpy, list\n",
    "\n",
    "img_left = cv2.imread(str(img_left_path))\n",
    "img_right = cv2.imread(str(img_right_path))\n",
    "\n",
    "\n",
    "# Inference\n",
    "results = model([img_left, img_right])\n",
    "\n",
    "# Results\n",
    "r = results.pandas().xyxy\n",
    "\n",
    "results_left_df = r[0]\n",
    "results_right_df = r[1]"
   ]
  },
  {
   "cell_type": "code",
   "execution_count": 6,
   "metadata": {},
   "outputs": [
    {
     "data": {
      "text/html": [
       "<div>\n",
       "<style scoped>\n",
       "    .dataframe tbody tr th:only-of-type {\n",
       "        vertical-align: middle;\n",
       "    }\n",
       "\n",
       "    .dataframe tbody tr th {\n",
       "        vertical-align: top;\n",
       "    }\n",
       "\n",
       "    .dataframe thead th {\n",
       "        text-align: right;\n",
       "    }\n",
       "</style>\n",
       "<table border=\"1\" class=\"dataframe\">\n",
       "  <thead>\n",
       "    <tr style=\"text-align: right;\">\n",
       "      <th></th>\n",
       "      <th>xmin</th>\n",
       "      <th>ymin</th>\n",
       "      <th>xmax</th>\n",
       "      <th>ymax</th>\n",
       "      <th>confidence</th>\n",
       "      <th>class</th>\n",
       "      <th>name</th>\n",
       "    </tr>\n",
       "  </thead>\n",
       "  <tbody>\n",
       "    <tr>\n",
       "      <th>0</th>\n",
       "      <td>0.000000</td>\n",
       "      <td>201.514206</td>\n",
       "      <td>297.433075</td>\n",
       "      <td>370.000000</td>\n",
       "      <td>0.978220</td>\n",
       "      <td>0</td>\n",
       "      <td>Car</td>\n",
       "    </tr>\n",
       "    <tr>\n",
       "      <th>1</th>\n",
       "      <td>1000.916809</td>\n",
       "      <td>151.643967</td>\n",
       "      <td>1076.956909</td>\n",
       "      <td>295.646484</td>\n",
       "      <td>0.933369</td>\n",
       "      <td>1</td>\n",
       "      <td>Pedestrian</td>\n",
       "    </tr>\n",
       "    <tr>\n",
       "      <th>2</th>\n",
       "      <td>446.264679</td>\n",
       "      <td>172.997131</td>\n",
       "      <td>483.641022</td>\n",
       "      <td>198.633377</td>\n",
       "      <td>0.927031</td>\n",
       "      <td>0</td>\n",
       "      <td>Car</td>\n",
       "    </tr>\n",
       "    <tr>\n",
       "      <th>3</th>\n",
       "      <td>867.967407</td>\n",
       "      <td>167.970062</td>\n",
       "      <td>917.901123</td>\n",
       "      <td>276.058960</td>\n",
       "      <td>0.835764</td>\n",
       "      <td>0</td>\n",
       "      <td>Car</td>\n",
       "    </tr>\n",
       "  </tbody>\n",
       "</table>\n",
       "</div>"
      ],
      "text/plain": [
       "          xmin        ymin         xmax        ymax  confidence  class  \\\n",
       "0     0.000000  201.514206   297.433075  370.000000    0.978220      0   \n",
       "1  1000.916809  151.643967  1076.956909  295.646484    0.933369      1   \n",
       "2   446.264679  172.997131   483.641022  198.633377    0.927031      0   \n",
       "3   867.967407  167.970062   917.901123  276.058960    0.835764      0   \n",
       "\n",
       "         name  \n",
       "0         Car  \n",
       "1  Pedestrian  \n",
       "2         Car  \n",
       "3         Car  "
      ]
     },
     "execution_count": 6,
     "metadata": {},
     "output_type": "execute_result"
    }
   ],
   "source": [
    "results_left_df.head()"
   ]
  },
  {
   "cell_type": "code",
   "execution_count": 7,
   "metadata": {},
   "outputs": [
    {
     "data": {
      "text/html": [
       "<div>\n",
       "<style scoped>\n",
       "    .dataframe tbody tr th:only-of-type {\n",
       "        vertical-align: middle;\n",
       "    }\n",
       "\n",
       "    .dataframe tbody tr th {\n",
       "        vertical-align: top;\n",
       "    }\n",
       "\n",
       "    .dataframe thead th {\n",
       "        text-align: right;\n",
       "    }\n",
       "</style>\n",
       "<table border=\"1\" class=\"dataframe\">\n",
       "  <thead>\n",
       "    <tr style=\"text-align: right;\">\n",
       "      <th></th>\n",
       "      <th>xmin</th>\n",
       "      <th>ymin</th>\n",
       "      <th>xmax</th>\n",
       "      <th>ymax</th>\n",
       "      <th>confidence</th>\n",
       "      <th>class</th>\n",
       "      <th>name</th>\n",
       "    </tr>\n",
       "  </thead>\n",
       "  <tbody>\n",
       "    <tr>\n",
       "      <th>0</th>\n",
       "      <td>788.372253</td>\n",
       "      <td>153.427689</td>\n",
       "      <td>893.130249</td>\n",
       "      <td>277.143463</td>\n",
       "      <td>0.953341</td>\n",
       "      <td>2</td>\n",
       "      <td>Cyclist</td>\n",
       "    </tr>\n",
       "    <tr>\n",
       "      <th>1</th>\n",
       "      <td>0.000000</td>\n",
       "      <td>195.325424</td>\n",
       "      <td>233.257751</td>\n",
       "      <td>367.463257</td>\n",
       "      <td>0.950212</td>\n",
       "      <td>0</td>\n",
       "      <td>Car</td>\n",
       "    </tr>\n",
       "    <tr>\n",
       "      <th>2</th>\n",
       "      <td>438.047150</td>\n",
       "      <td>173.084274</td>\n",
       "      <td>475.409637</td>\n",
       "      <td>199.053802</td>\n",
       "      <td>0.943545</td>\n",
       "      <td>0</td>\n",
       "      <td>Car</td>\n",
       "    </tr>\n",
       "    <tr>\n",
       "      <th>3</th>\n",
       "      <td>958.674683</td>\n",
       "      <td>145.034378</td>\n",
       "      <td>1032.881836</td>\n",
       "      <td>297.623138</td>\n",
       "      <td>0.904521</td>\n",
       "      <td>1</td>\n",
       "      <td>Pedestrian</td>\n",
       "    </tr>\n",
       "  </tbody>\n",
       "</table>\n",
       "</div>"
      ],
      "text/plain": [
       "         xmin        ymin         xmax        ymax  confidence  class  \\\n",
       "0  788.372253  153.427689   893.130249  277.143463    0.953341      2   \n",
       "1    0.000000  195.325424   233.257751  367.463257    0.950212      0   \n",
       "2  438.047150  173.084274   475.409637  199.053802    0.943545      0   \n",
       "3  958.674683  145.034378  1032.881836  297.623138    0.904521      1   \n",
       "\n",
       "         name  \n",
       "0     Cyclist  \n",
       "1         Car  \n",
       "2         Car  \n",
       "3  Pedestrian  "
      ]
     },
     "execution_count": 7,
     "metadata": {},
     "output_type": "execute_result"
    }
   ],
   "source": [
    "results_right_df.head()"
   ]
  },
  {
   "cell_type": "code",
   "execution_count": 8,
   "metadata": {},
   "outputs": [],
   "source": [
    "def match_objects(\n",
    "    results_left_df: pd.DataFrame,\n",
    "    results_right_df: pd.DataFrame,\n",
    "    img_left_path: Path,\n",
    "    img_right_path: Path,\n",
    ") -> pd.DataFrame:\n",
    "    \"\"\"Match objects from left and right images.\n",
    "\n",
    "    Args:\n",
    "        results_left_df (pd.DataFrame): Results from left image.\n",
    "        results_right_df (pd.DataFrame): Results from right image.\n",
    "        calib_file (str): Path to calibration file.\n",
    "\n",
    "    Returns:\n",
    "        pd.DataFrame: Matched objects.\n",
    "    \"\"\"\n",
    "\n",
    "    # read images and convert to gray\n",
    "    img_left = cv2.imread(str(img_left_path))\n",
    "    img_left_gray = cv2.cvtColor(img_left, cv2.COLOR_RGB2GRAY)\n",
    "    img_right = cv2.imread(str(img_right_path))\n",
    "    img_right_gray = cv2.cvtColor(img_right, cv2.COLOR_BGR2GRAY)\n",
    "    \n",
    "    nb_matches = 20\n",
    "    sift = cv2.SIFT_create()\n",
    "    bf = cv2.BFMatcher()\n",
    "    im_height = img_left.shape[0]\n",
    "    match_matrix = np.zeros((len(results_left_df.index), len(results_right_df.index)))\n",
    "    for i1, bbox1 in results_left_df.iterrows():\n",
    "        for i2, bbox2 in results_right_df.iterrows():\n",
    "            cy1 = bbox1[\"ymin\"] + bbox1[\"ymax\"] / 2\n",
    "            cy2 = bbox2[\"ymin\"] + bbox2[\"ymax\"] / 2\n",
    "            if abs(cy1 - cy2) / im_height <= 0.1 and bbox1[5] == bbox2[5]:\n",
    "                bbox1_im = img_left_gray[\n",
    "                    int(bbox1[\"ymin\"]) : int(bbox1[\"ymax\"]),\n",
    "                    int(bbox1[\"xmin\"]) : int(bbox1[\"xmax\"]),\n",
    "                ]\n",
    "                bbox2_im = img_right_gray[\n",
    "                    int(bbox2[\"ymin\"]) : int(bbox2[\"ymax\"]),\n",
    "                    int(bbox2[\"xmin\"]) : int(bbox2[\"xmax\"]),\n",
    "                ]\n",
    "                kp1, des1 = sift.detectAndCompute(bbox1_im, None)\n",
    "                kp2, des2 = sift.detectAndCompute(bbox2_im, None)\n",
    "                matches = bf.match(des1, des2)\n",
    "                matches = sorted(matches, key=lambda x: x.distance)[:nb_matches]\n",
    "                for m in matches:\n",
    "                    match_matrix[i1, i2] += m.distance\n",
    "            else:\n",
    "                match_matrix[i1, i2] = 1e12\n",
    "    print(match_matrix.shape)\n",
    "    print(match_matrix)\n",
    "    row_ind, col_ind = scipy.optimize.linear_sum_assignment(match_matrix)\n",
    "\n",
    "    return row_ind, col_ind"
   ]
  },
  {
   "cell_type": "code",
   "execution_count": 9,
   "metadata": {},
   "outputs": [
    {
     "name": "stdout",
     "output_type": "stream",
     "text": [
      "(4, 4)\n",
      "[[      1e+12      2785.2       1e+12       1e+12]\n",
      " [      1e+12       1e+12       1e+12      2269.9]\n",
      " [      1e+12       1e+12      4028.3       1e+12]\n",
      " [      1e+12       1e+12      7780.8       1e+12]]\n"
     ]
    }
   ],
   "source": [
    "row_ind, col_ind = match_objects(\n",
    "    r[0],\n",
    "    r[1],\n",
    "    img_left_path,\n",
    "    img_right_path,\n",
    ")"
   ]
  },
  {
   "cell_type": "code",
   "execution_count": 10,
   "metadata": {},
   "outputs": [],
   "source": [
    "results_right_df\n",
    "\n",
    "img_right = cv2.imread(str(img_right_path))\n",
    "\n",
    "\n",
    "random_color = tuple(int(color) for color in np.random.choice(range(255),size=3))\n",
    "\n",
    "box2 = results_right_df.iloc[2]\n",
    "x_min = int(box2[\"xmin\"])\n",
    "y_min = int(box2[\"ymin\"])\n",
    "x_max = int(box2[\"xmax\"])\n",
    "y_max = int(box2[\"ymax\"])\n",
    "#cv2.rectangle(img_right, (x_min, y_min), (x_max, y_max), random_color, 2)\n",
    "#plt.imshow(img_right)\n",
    "#plt.show()"
   ]
  },
  {
   "cell_type": "code",
   "execution_count": 11,
   "metadata": {},
   "outputs": [
    {
     "name": "stdout",
     "output_type": "stream",
     "text": [
      "[1 3 2 0] [0 1 2 3]\n"
     ]
    }
   ],
   "source": [
    "print(col_ind, row_ind)"
   ]
  },
  {
   "cell_type": "code",
   "execution_count": 67,
   "metadata": {},
   "outputs": [],
   "source": [
    "img_left = cv2.imread(str(img_left_path))\n",
    "img_right = cv2.imread(str(img_right_path))\n",
    "\n",
    "for i1,i2 in zip(row_ind, col_ind):\n",
    "    # draw on left image\n",
    "    random_color = tuple(int(color) for color in np.random.choice(range(255),size=3))\n",
    "    box1 = results_left_df.iloc[i1]\n",
    "    x_min = int(box1[\"xmin\"])\n",
    "    y_min = int(box1[\"ymin\"])\n",
    "    x_max = int(box1[\"xmax\"])\n",
    "    y_max = int(box1[\"ymax\"])\n",
    "    cv2.rectangle(img_left, (x_min, y_min), (x_max, y_max), random_color, 2)\n",
    "\n",
    "    # draw on right image\n",
    "    box2 = results_right_df.iloc[i2]\n",
    "    x_min = int(box2[\"xmin\"])\n",
    "    y_min = int(box2[\"ymin\"])\n",
    "    x_max = int(box2[\"xmax\"])\n",
    "    y_max = int(box2[\"ymax\"])\n",
    "    cv2.rectangle(img_right, (x_min, y_min), (x_max, y_max), random_color, 2)\n",
    "merged = np.concatenate((img_left, img_right), axis=0)\n",
    "cv2.imshow('im', merged)\n",
    "cv2.waitKey(0)\n",
    "cv2.destroyAllWindows()"
   ]
  },
  {
   "cell_type": "code",
   "execution_count": 80,
   "metadata": {},
   "outputs": [],
   "source": [
    "nb_matches = 100\n",
    "def triangulate(im_left, im_right, bbox_matches, bboxes_left, bboxes_right, mtx_left, mtx_right, left_cam_disp_x, right_cam_disp_x):\n",
    "    if (len(im_left.shape) == 3): im_left = cv2.cvtColor(im_left, cv2.COLOR_RGB2GRAY)\n",
    "    if (len(im_right.shape) == 3): im_right = cv2.cvtColor(im_right, cv2.COLOR_RGB2GRAY)\n",
    "\n",
    "    R_left = np.eye(3)\n",
    "    t_left = np.array([[left_cam_disp_x], [0], [0]])\n",
    "    #P_left = mtx_left @ np.hstack((R_left, t_left))\n",
    "    P_left = np.array([[1230,0,687.06,-73.8],\n",
    "                       [0,1074.5,254.14,0],\n",
    "                       [0,0,1,0]])\n",
    "    R_right = np.eye(3)\n",
    "    t_right = np.array([[right_cam_disp_x], [0], [0]])\n",
    "    #P_right = mtx_right @ np.hstack((R_right, t_right))\n",
    "    P_right = np.array([[978.76,0,707.1,469.8048],\n",
    "                        [0,974.55,260.06,0],\n",
    "                        [0,0,1,0]])\n",
    "    \n",
    "    sift = cv2.SIFT_create()\n",
    "    bf = cv2.BFMatcher()\n",
    "    points_3d = []\n",
    "    for [lb,rb] in bbox_matches:\n",
    "        lx_min = int(bboxes_left[lb,0])\n",
    "        ly_min = int(bboxes_left[lb,1])\n",
    "        lx_max = int(bboxes_left[lb,2])\n",
    "        ly_max = int(bboxes_left[lb,3])\n",
    "        rx_min = int(bboxes_right[rb,0])\n",
    "        ry_min = int(bboxes_right[rb,1])\n",
    "        rx_max = int(bboxes_right[rb,2])\n",
    "        ry_max = int(bboxes_right[rb,3])\n",
    "        bbox_left = im_left[ly_min:ly_max,lx_min:lx_max]\n",
    "        bbox_right = im_right[ry_min:ry_max,rx_min:rx_max]\n",
    "\n",
    "        kpl, desl = sift.detectAndCompute(bbox_left, None)\n",
    "        kpl = np.array([k.pt for k in kpl])\n",
    "        kpr, desr = sift.detectAndCompute(bbox_right, None)\n",
    "        matches = bf.match(desl, desr)\n",
    "        kpr = np.array([k.pt for k in kpr])\n",
    "        matches = sorted(matches, key = lambda x:x.distance)[:nb_matches]\n",
    "        matches = np.array([(m.queryIdx, m.trainIdx) for m in matches])\n",
    "\n",
    "        points_left = kpl[matches[:,0],:] + [lx_min, ly_min]\n",
    "        points_right = kpr[matches[:,1],:] + [rx_min, ry_min]\n",
    "\n",
    "        Q = cv2.triangulatePoints(P_left, P_right, points_left.T, points_right.T)\n",
    "        Q = Q[:-1]/Q[-1]    \n",
    "\n",
    "        Q = np.sum(Q, axis=1) / nb_matches\n",
    "        points_3d.append(Q)\n",
    "\n",
    "    return np.asarray(points_3d)"
   ]
  },
  {
   "cell_type": "code",
   "execution_count": 81,
   "metadata": {},
   "outputs": [],
   "source": [
    "im_left = cv2.imread(str(img_left_path))\n",
    "im_right = cv2.imread(str(img_right_path))\n",
    "matches = np.array([row_ind, col_ind]).T\n",
    "bboxes_left = results_left_df.to_numpy()\n",
    "bboxes_right = results_right_df.to_numpy()\n",
    "mtx_left = np.array([[1.23004607e+03, 0, 6.87057482e+02],\n",
    "                     [0, 1.07447570e+03, 2.54142938e+02],\n",
    "                     [0, 0, 1]])\n",
    "mtx_right = np.array([[978.7638968, 0, 707.10302473],\n",
    "                      [0, 974.5535797, 260.05961915],\n",
    "                      [0, 0, 1]])\n",
    "left_cam_disp_x = -0.06\n",
    "right_cam_disp_x = 0.48"
   ]
  },
  {
   "cell_type": "code",
   "execution_count": 82,
   "metadata": {},
   "outputs": [
    {
     "data": {
      "text/plain": [
       "array([[     1.1423,   -0.030114,     -2.9072],\n",
       "       [     22.716,     -3.8501,      83.991],\n",
       "       [    0.19031,    0.067033,    -0.99974],\n",
       "       [    -2.4772,     0.29665,     -14.929]])"
      ]
     },
     "execution_count": 82,
     "metadata": {},
     "output_type": "execute_result"
    }
   ],
   "source": [
    "triangulate(im_left, im_right, matches, bboxes_left, bboxes_right, mtx_left, mtx_right, left_cam_disp_x, right_cam_disp_x)"
   ]
  },
  {
   "cell_type": "code",
   "execution_count": 21,
   "metadata": {},
   "outputs": [
    {
     "data": {
      "text/plain": [
       "array([[0, 1],\n",
       "       [1, 3],\n",
       "       [2, 2],\n",
       "       [3, 0]], dtype=int64)"
      ]
     },
     "execution_count": 21,
     "metadata": {},
     "output_type": "execute_result"
    }
   ],
   "source": [
    "matches"
   ]
  },
  {
   "cell_type": "code",
   "execution_count": 33,
   "metadata": {},
   "outputs": [
    {
     "data": {
      "text/plain": [
       "array([[0.0, 201.5142059326172, 297.4330749511719, 370.0, 0.9782201051712036, 0, 'Car'],\n",
       "       [1000.9168090820312, 151.6439666748047, 1076.9569091796875, 295.646484375, 0.9333688020706177, 1, 'Pedestrian'],\n",
       "       [446.2646789550781, 172.99713134765625, 483.6410217285156, 198.6333770751953, 0.927031397819519, 0, 'Car'],\n",
       "       [867.9674072265625, 167.97006225585938, 917.901123046875, 276.0589599609375, 0.8357637524604797, 0, 'Car']], dtype=object)"
      ]
     },
     "execution_count": 33,
     "metadata": {},
     "output_type": "execute_result"
    }
   ],
   "source": [
    "bboxes_left"
   ]
  },
  {
   "cell_type": "code",
   "execution_count": 26,
   "metadata": {},
   "outputs": [
    {
     "data": {
      "text/plain": [
       "array([[788.3722534179688, 153.4276885986328, 893.1302490234375, 277.1434631347656, 0.9533413648605347, 2, 'Cyclist'],\n",
       "       [0.0, 195.32542419433594, 233.25775146484375, 367.4632568359375, 0.9502115249633789, 0, 'Car'],\n",
       "       [438.0471496582031, 173.0842742919922, 475.4096374511719, 199.05380249023438, 0.9435446858406067, 0, 'Car'],\n",
       "       [958.6746826171875, 145.0343780517578, 1032.8818359375, 297.6231384277344, 0.9045212268829346, 1, 'Pedestrian']], dtype=object)"
      ]
     },
     "execution_count": 26,
     "metadata": {},
     "output_type": "execute_result"
    }
   ],
   "source": [
    "bboxes_right"
   ]
  },
  {
   "cell_type": "code",
   "execution_count": null,
   "metadata": {},
   "outputs": [],
   "source": []
  }
 ],
 "metadata": {
  "kernelspec": {
   "display_name": "pfas_project",
   "language": "python",
   "name": "python3"
  },
  "language_info": {
   "codemirror_mode": {
    "name": "ipython",
    "version": 3
   },
   "file_extension": ".py",
   "mimetype": "text/x-python",
   "name": "python",
   "nbconvert_exporter": "python",
   "pygments_lexer": "ipython3",
   "version": "3.11.2"
  }
 },
 "nbformat": 4,
 "nbformat_minor": 2
}

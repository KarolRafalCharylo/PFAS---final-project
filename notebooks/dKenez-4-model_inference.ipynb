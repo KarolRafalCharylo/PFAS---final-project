{
 "cells": [
  {
   "cell_type": "code",
   "execution_count": 1,
   "metadata": {},
   "outputs": [],
   "source": [
    "import torch\n",
    "from pathlib import Path\n",
    "import numpy as np\n",
    "import scipy"
   ]
  },
  {
   "cell_type": "code",
   "execution_count": 2,
   "metadata": {},
   "outputs": [
    {
     "data": {
      "text/plain": [
       "WindowsPath('c:/Users/jakab/Documents/University/DTU/2023_spring/Perception_for_AS/Final_project/PFAS---final-project/data')"
      ]
     },
     "execution_count": 2,
     "metadata": {},
     "output_type": "execute_result"
    }
   ],
   "source": [
    "root_dir = Path.cwd().parent\n",
    "data_dir = root_dir / 'data'\n",
    "model_dir = root_dir / 'models'\n",
    "\n",
    "root_dir\n",
    "data_dir"
   ]
  },
  {
   "cell_type": "code",
   "execution_count": 3,
   "metadata": {},
   "outputs": [
    {
     "name": "stderr",
     "output_type": "stream",
     "text": [
      "Downloading: \"https://github.com/ultralytics/yolov5/zipball/master\" to C:\\Users\\jakab/.cache\\torch\\hub\\master.zip\n",
      "YOLOv5  2023-4-30 Python-3.11.2 torch-2.0.0+cpu CPU\n",
      "\n",
      "Fusing layers... \n",
      "YOLOv5s summary: 157 layers, 7018216 parameters, 0 gradients\n"
     ]
    },
    {
     "name": "stdout",
     "output_type": "stream",
     "text": [
      "\u001b[31m\u001b[1mrequirements:\u001b[0m C:\\Users\\jakab\\.cache\\torch\\hub\\requirements.txt not found, check failed.\n"
     ]
    },
    {
     "name": "stderr",
     "output_type": "stream",
     "text": [
      "Adding AutoShape... \n"
     ]
    }
   ],
   "source": [
    "# Model\n",
    "model = torch.hub.load('ultralytics/yolov5', 'custom', path=model_dir / 'best.pt', force_reload=True)"
   ]
  },
  {
   "cell_type": "code",
   "execution_count": 4,
   "metadata": {},
   "outputs": [],
   "source": [
    "model.eval();"
   ]
  },
  {
   "cell_type": "code",
   "execution_count": 5,
   "metadata": {},
   "outputs": [],
   "source": [
    "\n",
    "# Images\n",
    "img1_path = data_dir / \"raw/final_project_2023_rect/seq_03/image_02/data/0000000000.png\"  # or file, Path, PIL, OpenCV, numpy, list\n",
    "img2_path = data_dir / \"raw/final_project_2023_rect/seq_03/image_03/data/0000000000.png\"\n",
    "\n",
    "# Inference\n",
    "results = model([img1_path, img2_path])\n",
    "\n",
    "# Results\n",
    "r = results.pandas().xyxy # or .show(), .save(), .crop(), .pandas(), etc."
   ]
  },
  {
   "cell_type": "code",
   "execution_count": 6,
   "metadata": {},
   "outputs": [
    {
     "data": {
      "text/html": [
       "<div>\n",
       "<style scoped>\n",
       "    .dataframe tbody tr th:only-of-type {\n",
       "        vertical-align: middle;\n",
       "    }\n",
       "\n",
       "    .dataframe tbody tr th {\n",
       "        vertical-align: top;\n",
       "    }\n",
       "\n",
       "    .dataframe thead th {\n",
       "        text-align: right;\n",
       "    }\n",
       "</style>\n",
       "<table border=\"1\" class=\"dataframe\">\n",
       "  <thead>\n",
       "    <tr style=\"text-align: right;\">\n",
       "      <th></th>\n",
       "      <th>xmin</th>\n",
       "      <th>ymin</th>\n",
       "      <th>xmax</th>\n",
       "      <th>ymax</th>\n",
       "      <th>confidence</th>\n",
       "      <th>class</th>\n",
       "      <th>name</th>\n",
       "    </tr>\n",
       "  </thead>\n",
       "  <tbody>\n",
       "    <tr>\n",
       "      <th>0</th>\n",
       "      <td>0.000000</td>\n",
       "      <td>198.781540</td>\n",
       "      <td>302.233887</td>\n",
       "      <td>366.846100</td>\n",
       "      <td>0.982934</td>\n",
       "      <td>0</td>\n",
       "      <td>Car</td>\n",
       "    </tr>\n",
       "    <tr>\n",
       "      <th>1</th>\n",
       "      <td>446.705200</td>\n",
       "      <td>168.243835</td>\n",
       "      <td>481.563446</td>\n",
       "      <td>192.657181</td>\n",
       "      <td>0.948782</td>\n",
       "      <td>0</td>\n",
       "      <td>Car</td>\n",
       "    </tr>\n",
       "    <tr>\n",
       "      <th>2</th>\n",
       "      <td>991.425781</td>\n",
       "      <td>143.852783</td>\n",
       "      <td>1028.824341</td>\n",
       "      <td>215.211456</td>\n",
       "      <td>0.941393</td>\n",
       "      <td>2</td>\n",
       "      <td>Cyclist</td>\n",
       "    </tr>\n",
       "    <tr>\n",
       "      <th>3</th>\n",
       "      <td>1073.351807</td>\n",
       "      <td>147.619415</td>\n",
       "      <td>1195.596802</td>\n",
       "      <td>186.312271</td>\n",
       "      <td>0.941104</td>\n",
       "      <td>0</td>\n",
       "      <td>Car</td>\n",
       "    </tr>\n",
       "    <tr>\n",
       "      <th>4</th>\n",
       "      <td>553.656372</td>\n",
       "      <td>152.106049</td>\n",
       "      <td>618.121643</td>\n",
       "      <td>314.763367</td>\n",
       "      <td>0.922514</td>\n",
       "      <td>1</td>\n",
       "      <td>Pedestrian</td>\n",
       "    </tr>\n",
       "  </tbody>\n",
       "</table>\n",
       "</div>"
      ],
      "text/plain": [
       "          xmin        ymin         xmax        ymax  confidence  class  \\\n",
       "0     0.000000  198.781540   302.233887  366.846100    0.982934      0   \n",
       "1   446.705200  168.243835   481.563446  192.657181    0.948782      0   \n",
       "2   991.425781  143.852783  1028.824341  215.211456    0.941393      2   \n",
       "3  1073.351807  147.619415  1195.596802  186.312271    0.941104      0   \n",
       "4   553.656372  152.106049   618.121643  314.763367    0.922514      1   \n",
       "\n",
       "         name  \n",
       "0         Car  \n",
       "1         Car  \n",
       "2     Cyclist  \n",
       "3         Car  \n",
       "4  Pedestrian  "
      ]
     },
     "execution_count": 6,
     "metadata": {},
     "output_type": "execute_result"
    }
   ],
   "source": [
    "r[0].head()"
   ]
  },
  {
   "cell_type": "code",
   "execution_count": 7,
   "metadata": {},
   "outputs": [
    {
     "data": {
      "text/html": [
       "<div>\n",
       "<style scoped>\n",
       "    .dataframe tbody tr th:only-of-type {\n",
       "        vertical-align: middle;\n",
       "    }\n",
       "\n",
       "    .dataframe tbody tr th {\n",
       "        vertical-align: top;\n",
       "    }\n",
       "\n",
       "    .dataframe thead th {\n",
       "        text-align: right;\n",
       "    }\n",
       "</style>\n",
       "<table border=\"1\" class=\"dataframe\">\n",
       "  <thead>\n",
       "    <tr style=\"text-align: right;\">\n",
       "      <th></th>\n",
       "      <th>xmin</th>\n",
       "      <th>ymin</th>\n",
       "      <th>xmax</th>\n",
       "      <th>ymax</th>\n",
       "      <th>confidence</th>\n",
       "      <th>class</th>\n",
       "      <th>name</th>\n",
       "    </tr>\n",
       "  </thead>\n",
       "  <tbody>\n",
       "    <tr>\n",
       "      <th>0</th>\n",
       "      <td>0.000000</td>\n",
       "      <td>197.421494</td>\n",
       "      <td>234.741684</td>\n",
       "      <td>367.471191</td>\n",
       "      <td>0.982592</td>\n",
       "      <td>0</td>\n",
       "      <td>Car</td>\n",
       "    </tr>\n",
       "    <tr>\n",
       "      <th>1</th>\n",
       "      <td>970.142761</td>\n",
       "      <td>148.914749</td>\n",
       "      <td>1007.361328</td>\n",
       "      <td>217.774231</td>\n",
       "      <td>0.945694</td>\n",
       "      <td>2</td>\n",
       "      <td>Cyclist</td>\n",
       "    </tr>\n",
       "    <tr>\n",
       "      <th>2</th>\n",
       "      <td>438.436859</td>\n",
       "      <td>168.651886</td>\n",
       "      <td>473.241882</td>\n",
       "      <td>192.590729</td>\n",
       "      <td>0.944815</td>\n",
       "      <td>0</td>\n",
       "      <td>Car</td>\n",
       "    </tr>\n",
       "    <tr>\n",
       "      <th>3</th>\n",
       "      <td>1061.583130</td>\n",
       "      <td>147.692871</td>\n",
       "      <td>1190.861816</td>\n",
       "      <td>186.746582</td>\n",
       "      <td>0.920443</td>\n",
       "      <td>0</td>\n",
       "      <td>Car</td>\n",
       "    </tr>\n",
       "    <tr>\n",
       "      <th>4</th>\n",
       "      <td>882.492981</td>\n",
       "      <td>141.664017</td>\n",
       "      <td>945.607788</td>\n",
       "      <td>292.411469</td>\n",
       "      <td>0.878738</td>\n",
       "      <td>1</td>\n",
       "      <td>Pedestrian</td>\n",
       "    </tr>\n",
       "  </tbody>\n",
       "</table>\n",
       "</div>"
      ],
      "text/plain": [
       "          xmin        ymin         xmax        ymax  confidence  class  \\\n",
       "0     0.000000  197.421494   234.741684  367.471191    0.982592      0   \n",
       "1   970.142761  148.914749  1007.361328  217.774231    0.945694      2   \n",
       "2   438.436859  168.651886   473.241882  192.590729    0.944815      0   \n",
       "3  1061.583130  147.692871  1190.861816  186.746582    0.920443      0   \n",
       "4   882.492981  141.664017   945.607788  292.411469    0.878738      1   \n",
       "\n",
       "         name  \n",
       "0         Car  \n",
       "1     Cyclist  \n",
       "2         Car  \n",
       "3         Car  \n",
       "4  Pedestrian  "
      ]
     },
     "execution_count": 7,
     "metadata": {},
     "output_type": "execute_result"
    }
   ],
   "source": [
    "r[1].head()"
   ]
  },
  {
   "cell_type": "code",
   "execution_count": 8,
   "metadata": {},
   "outputs": [],
   "source": [
    "import cv2\n",
    "frame = cv2.imread(str(img1_path))\n",
    "for _, box in r[0].iterrows():\n",
    "    if box[\"class\"]==0:\n",
    "        xB = int(box[\"xmin\"])\n",
    "        yB = int(box[\"ymin\"])\n",
    "        xA = int(box[\"xmax\"])\n",
    "        yA = int(box[\"ymax\"])\n",
    "        cv2.rectangle(frame, (xA, yA), (xB, yB), (0, 255, 0), 2)\n",
    "cv2.imshow('im', frame)\n",
    "cv2.waitKey(0)\n",
    "cv2.destroyAllWindows()"
   ]
  },
  {
   "cell_type": "code",
   "execution_count": 10,
   "metadata": {},
   "outputs": [],
   "source": [
    "r1 = np.asarray(r[0])\n",
    "r2 = np.asarray(r[1])\n",
    "img1 = cv2.imread(str(img1_path))\n",
    "img1_gray = cv2.cvtColor(img1, cv2.COLOR_BGR2GRAY)\n",
    "img2 = cv2.imread(str(img2_path))\n",
    "img2_gray = cv2.cvtColor(img2, cv2.COLOR_BGR2GRAY)\n",
    "nb_matches = 20\n",
    "sift = cv2.SIFT_create()\n",
    "bf = cv2.BFMatcher()\n",
    "im_height = img1.shape[0]\n",
    "match_matrix = np.zeros((r1.shape[0], r2.shape[0]))\n",
    "for i1, bbox1 in enumerate(r1):\n",
    "    for i2, bbox2 in enumerate(r2):\n",
    "        cy1 = bbox1[1]+bbox1[3]/2\n",
    "        cy2 = bbox2[1]+bbox2[3]/2\n",
    "        if abs(cy1-cy2)/im_height <= 0.1 and bbox1[5] == bbox2[5]:\n",
    "            bbox1_im = img1_gray[int(bbox1[1]):int(bbox1[3]),int(bbox1[0]):int(bbox1[2])]\n",
    "            bbox2_im = img2_gray[int(bbox2[1]):int(bbox2[3]),int(bbox2[0]):int(bbox2[2])]\n",
    "            kp1, des1 = sift.detectAndCompute(bbox1_im, None)\n",
    "            kp2, des2 = sift.detectAndCompute(bbox2_im, None)\n",
    "            matches = bf.match(des1, des2)\n",
    "            matches = sorted(matches, key = lambda x:x.distance)[:nb_matches]\n",
    "            for m in matches:\n",
    "                match_matrix[i1,i2] += m.distance\n",
    "        else:\n",
    "            match_matrix[i1,i2] = np.inf\n",
    "row_ind, col_ind = scipy.optimize.linear_sum_assignment(match_matrix)"
   ]
  },
  {
   "cell_type": "code",
   "execution_count": 11,
   "metadata": {},
   "outputs": [],
   "source": [
    "for i1,i2 in zip(row_ind, col_ind):\n",
    "    random_color = tuple(int(color) for color in np.random.choice(range(255),size=3))\n",
    "    box1 = r1[i1]\n",
    "    x_min = int(box1[0])\n",
    "    y_min = int(box1[1])\n",
    "    x_max = int(box1[2])\n",
    "    y_max = int(box1[3])\n",
    "    cv2.rectangle(img1, (x_min, y_min), (x_max, y_max), random_color, 2)\n",
    "    box2 = r2[i2]\n",
    "    x_min = int(box2[0])\n",
    "    y_min = int(box2[1])\n",
    "    x_max = int(box2[2])\n",
    "    y_max = int(box2[3])\n",
    "    cv2.rectangle(img2, (x_min, y_min), (x_max, y_max), random_color, 2)\n",
    "merged = np.concatenate((img1, img2), axis=0)\n",
    "cv2.imshow('im', merged)\n",
    "cv2.waitKey(0)\n",
    "cv2.destroyAllWindows()"
   ]
  },
  {
   "cell_type": "code",
   "execution_count": null,
   "metadata": {},
   "outputs": [],
   "source": []
  }
 ],
 "metadata": {
  "kernelspec": {
   "display_name": "PFAS",
   "language": "python",
   "name": "python3"
  },
  "language_info": {
   "codemirror_mode": {
    "name": "ipython",
    "version": 3
   },
   "file_extension": ".py",
   "mimetype": "text/x-python",
   "name": "python",
   "nbconvert_exporter": "python",
   "pygments_lexer": "ipython3",
   "version": "3.11.2"
  },
  "orig_nbformat": 4
 },
 "nbformat": 4,
 "nbformat_minor": 2
}

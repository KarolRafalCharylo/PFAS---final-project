{
 "cells": [
  {
   "cell_type": "code",
   "execution_count": 12,
   "metadata": {},
   "outputs": [],
   "source": [
    "import numpy as np\n",
    "\n",
    "\n",
    "\n",
    "def object_position(c_mat, box_L, box_R):\n",
    "    \"\"\"\n",
    "    Find object position (center of box) wrt Car frame, returns a 3D position vector\n",
    "    \"\"\"\n",
    "\n",
    "\n",
    "    # Camera intrinsic parameters\n",
    "    fx = c_mat[0,0]\n",
    "    fy = c_mat[1,1]\n",
    "    ox = c_mat[0,2]\n",
    "    oy = c_mat[1,2]\n",
    "\n",
    "    # fx = 770\n",
    "    # fy = 770\n",
    "    # ox = 350\n",
    "    # oy = 270\n",
    "    b = 0.54\n",
    "\n",
    "    # Center of bounding boxes of the detected objects (one corresponding to the left camera and the other to the right camera)\n",
    "    ul = box_L[\"xmin\"] + (box_L[\"xmax\"]-box_L[\"xmin\"])/2\n",
    "    vl = box_L[\"ymin\"] + (box_L[\"ymax\"]-box_L[\"ymin\"])/2\n",
    "    ur = box_R[\"xmin\"] + (box_R[\"xmax\"]-box_R[\"xmin\"])/2\n",
    "    vr = box_R[\"ymin\"] + (box_R[\"ymax\"]-box_R[\"ymin\"])/2\n",
    "\n",
    "\n",
    "    # Calculate position wrt Cam 2 (left) frame\n",
    "    z_cam = b*fx/(ur-ul)\n",
    "    x_cam = z_cam*(ul-ox)/fx\n",
    "    y_cam = z_cam*(vl-oy)/fy\n",
    "    obj_cam = np.array([x_cam, y_cam, z_cam, 1])\n",
    "\n",
    "\n",
    "    # Tranformation matrix between Cam 2 (left) and Car frames\n",
    "    Tcam_car = np.array([[1, 0, 0, 0.06],\n",
    "                        [0, 1, 0, 1.65],\n",
    "                        [0, 0, 1, 0],\n",
    "                        [0, 0, 0, 1]])\n",
    "\n",
    "    # Position wrt Car frame\n",
    "    obj_car = np.dot(Tcam_car, obj_cam.T)[0:3]\n",
    "\n",
    "    return obj_car\n"
   ]
  }
 ],
 "metadata": {
  "kernelspec": {
   "display_name": "pfas_project",
   "language": "python",
   "name": "python3"
  },
  "language_info": {
   "codemirror_mode": {
    "name": "ipython",
    "version": 3
   },
   "file_extension": ".py",
   "mimetype": "text/x-python",
   "name": "python",
   "nbconvert_exporter": "python",
   "pygments_lexer": "ipython3",
   "version": "3.11.2"
  },
  "orig_nbformat": 4
 },
 "nbformat": 4,
 "nbformat_minor": 2
}

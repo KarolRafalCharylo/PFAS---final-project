{
 "cells": [
  {
   "cell_type": "code",
   "execution_count": 16,
   "metadata": {},
   "outputs": [],
   "source": [
    "import numpy as np\n",
    "import cv2\n",
    "import matplotlib.pyplot as plt\n",
    "import os\n",
    "from pathlib import Path\n",
    "import scipy"
   ]
  },
  {
   "cell_type": "code",
   "execution_count": 17,
   "metadata": {},
   "outputs": [],
   "source": [
    "folder_1 = Path('../data/interim/bbox_matching_test/image_02')\n",
    "folder_2 = Path('../data/interim/bbox_matching_test/image_03')\n",
    "im1_list = os.listdir(folder_1)\n",
    "im2_list = os.listdir(folder_2)"
   ]
  },
  {
   "cell_type": "code",
   "execution_count": 20,
   "metadata": {},
   "outputs": [],
   "source": [
    "nb_matches = 20\n",
    "match_matrix = np.zeros((len(im1_list), len(im2_list)))\n",
    "sift = cv2.SIFT_create()\n",
    "bf = cv2.BFMatcher()\n",
    "for i1, im1_name in enumerate(im1_list):\n",
    "    for i2, im2_name in enumerate(im2_list):\n",
    "        im1 = cv2.imread(str(folder_1 / im1_name))\n",
    "        im1_gray = cv2.cvtColor(im1, cv2.COLOR_BGR2GRAY)\n",
    "        im2 = cv2.imread(str(folder_2 / im2_name))\n",
    "        im2_gray = cv2.cvtColor(im2, cv2.COLOR_BGR2GRAY)\n",
    "        kp1, des1 = sift.detectAndCompute(im1_gray, None)\n",
    "        kp2, des2 = sift.detectAndCompute(im2_gray, None)\n",
    "        matches = bf.match(des1, des2)\n",
    "        matches = sorted(matches, key = lambda x:x.distance)[:nb_matches]\n",
    "        for m in matches:\n",
    "            match_matrix[i1,i2] += m.distance\n",
    "row_ind, col_ind = scipy.optimize.linear_sum_assignment(match_matrix)"
   ]
  },
  {
   "cell_type": "code",
   "execution_count": null,
   "metadata": {},
   "outputs": [],
   "source": []
  }
 ],
 "metadata": {
  "kernelspec": {
   "display_name": "Python 3",
   "language": "python",
   "name": "python3"
  },
  "language_info": {
   "codemirror_mode": {
    "name": "ipython",
    "version": 3
   },
   "file_extension": ".py",
   "mimetype": "text/x-python",
   "name": "python",
   "nbconvert_exporter": "python",
   "pygments_lexer": "ipython3",
   "version": "3.11.2"
  },
  "orig_nbformat": 4
 },
 "nbformat": 4,
 "nbformat_minor": 2
}

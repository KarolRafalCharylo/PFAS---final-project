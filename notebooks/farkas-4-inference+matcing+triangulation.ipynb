{
 "cells": [
  {
   "cell_type": "code",
   "execution_count": 1,
   "metadata": {},
   "outputs": [],
   "source": [
    "import torch\n",
    "from pathlib import Path\n",
    "import numpy as np\n",
    "import scipy\n",
    "import pandas as pd\n",
    "import cv2\n",
    "import matplotlib.pyplot as plt"
   ]
  },
  {
   "cell_type": "code",
   "execution_count": 3,
   "metadata": {},
   "outputs": [
    {
     "name": "stderr",
     "output_type": "stream",
     "text": [
      "Downloading: \"https://github.com/ultralytics/yolov5/zipball/master\" to C:\\Users\\jakab/.cache\\torch\\hub\\master.zip\n",
      "YOLOv5  2023-5-3 Python-3.11.2 torch-2.0.0+cpu CPU\n",
      "\n",
      "Fusing layers... \n"
     ]
    },
    {
     "name": "stdout",
     "output_type": "stream",
     "text": [
      "\u001b[31m\u001b[1mrequirements:\u001b[0m C:\\Users\\jakab\\.cache\\torch\\hub\\requirements.txt not found, check failed.\n"
     ]
    },
    {
     "name": "stderr",
     "output_type": "stream",
     "text": [
      "YOLOv5s summary: 157 layers, 7018216 parameters, 0 gradients\n",
      "Adding AutoShape... \n"
     ]
    }
   ],
   "source": [
    "root_dir = Path.cwd().parent\n",
    "data_dir = root_dir / 'data'\n",
    "model_dir = root_dir / 'models'\n",
    "\n",
    "model = torch.hub.load('ultralytics/yolov5', 'custom', path=model_dir / 'best.pt', force_reload=True)\n",
    "\n",
    "model.eval();\n",
    "\n",
    "img_left_path = data_dir / \"raw/final_project_2023_rect/seq_03/image_02/data/0000000005.png\"  # or file, Path, PIL, OpenCV, numpy, list\n",
    "img_right_path = data_dir / \"raw/final_project_2023_rect/seq_03/image_03/data/0000000005.png\"  # or file, Path, PIL, OpenCV, numpy, list\n",
    "\n",
    "img_left = cv2.imread(str(img_left_path))\n",
    "img_right = cv2.imread(str(img_right_path))\n",
    "\n",
    "# Inference\n",
    "results = model([img_left, img_right])\n",
    "\n",
    "# Results\n",
    "r = results.pandas().xyxy\n",
    "\n",
    "results_left_df = r[0]\n",
    "results_right_df = r[1]"
   ]
  },
  {
   "cell_type": "code",
   "execution_count": 8,
   "metadata": {},
   "outputs": [],
   "source": [
    "def match_objects(\n",
    "    results_left_df: pd.DataFrame,\n",
    "    results_right_df: pd.DataFrame,\n",
    "    img_left_path: Path,\n",
    "    img_right_path: Path,\n",
    ") -> pd.DataFrame:\n",
    "    \"\"\"Match objects from left and right images.\n",
    "\n",
    "    Args:\n",
    "        results_left_df (pd.DataFrame): Results from left image.\n",
    "        results_right_df (pd.DataFrame): Results from right image.\n",
    "        calib_file (str): Path to calibration file.\n",
    "\n",
    "    Returns:\n",
    "        pd.DataFrame: Matched objects.\n",
    "    \"\"\"\n",
    "\n",
    "    # read images and convert to gray\n",
    "    img_left = cv2.imread(str(img_left_path))\n",
    "    img_left_gray = cv2.cvtColor(img_left, cv2.COLOR_RGB2GRAY)\n",
    "    img_right = cv2.imread(str(img_right_path))\n",
    "    img_right_gray = cv2.cvtColor(img_right, cv2.COLOR_BGR2GRAY)\n",
    "    \n",
    "    nb_matches = 20\n",
    "    sift = cv2.SIFT_create()\n",
    "    bf = cv2.BFMatcher()\n",
    "    im_height = img_left.shape[0]\n",
    "    match_matrix = np.zeros((len(results_left_df.index), len(results_right_df.index)))\n",
    "    for i1, bbox1 in results_left_df.iterrows():\n",
    "        for i2, bbox2 in results_right_df.iterrows():\n",
    "            cy1 = bbox1[\"ymin\"] + bbox1[\"ymax\"] / 2\n",
    "            cy2 = bbox2[\"ymin\"] + bbox2[\"ymax\"] / 2\n",
    "            if abs(cy1 - cy2) / im_height <= 0.1 and bbox1[5] == bbox2[5]:\n",
    "                bbox1_im = img_left_gray[\n",
    "                    int(bbox1[\"ymin\"]) : int(bbox1[\"ymax\"]),\n",
    "                    int(bbox1[\"xmin\"]) : int(bbox1[\"xmax\"]),\n",
    "                ]\n",
    "                bbox2_im = img_right_gray[\n",
    "                    int(bbox2[\"ymin\"]) : int(bbox2[\"ymax\"]),\n",
    "                    int(bbox2[\"xmin\"]) : int(bbox2[\"xmax\"]),\n",
    "                ]\n",
    "                _, des1 = sift.detectAndCompute(bbox1_im, None)\n",
    "                _, des2 = sift.detectAndCompute(bbox2_im, None)\n",
    "                matches = bf.match(des1, des2)\n",
    "                matches = sorted(matches, key=lambda x: x.distance)[:nb_matches]\n",
    "                for m in matches:\n",
    "                    match_matrix[i1, i2] += m.distance\n",
    "            else:\n",
    "                match_matrix[i1, i2] = 1e12\n",
    "    row_ind, col_ind = scipy.optimize.linear_sum_assignment(match_matrix)\n",
    "\n",
    "    return row_ind, col_ind"
   ]
  },
  {
   "cell_type": "code",
   "execution_count": 9,
   "metadata": {},
   "outputs": [],
   "source": [
    "row_ind, col_ind = match_objects(\n",
    "    r[0],\n",
    "    r[1],\n",
    "    img_left_path,\n",
    "    img_right_path,\n",
    ")"
   ]
  },
  {
   "cell_type": "code",
   "execution_count": 10,
   "metadata": {},
   "outputs": [],
   "source": [
    "nb_matches = 100\n",
    "def triangulate(im_left, im_right, bbox_matches, bboxes_left, bboxes_right, mtx_left, mtx_right, left_cam_disp_x, right_cam_disp_x):\n",
    "    if (len(im_left.shape) == 3): im_left = cv2.cvtColor(im_left, cv2.COLOR_RGB2GRAY)\n",
    "    if (len(im_right.shape) == 3): im_right = cv2.cvtColor(im_right, cv2.COLOR_RGB2GRAY)\n",
    "\n",
    "    R_left = np.eye(3)\n",
    "    t_left = np.array([[left_cam_disp_x], [0], [0]])\n",
    "    #P_left = mtx_left @ np.hstack((R_left, t_left))\n",
    "    P_left = np.array([[1230,0,687.06,-73.8],\n",
    "                       [0,1074.5,254.14,0],\n",
    "                       [0,0,1,0]])\n",
    "    R_right = np.eye(3)\n",
    "    t_right = np.array([[right_cam_disp_x], [0], [0]])\n",
    "    #P_right = mtx_right @ np.hstack((R_right, t_right))\n",
    "    P_right = np.array([[978.76,0,707.1,469.8048],\n",
    "                        [0,974.55,260.06,0],\n",
    "                        [0,0,1,0]])\n",
    "    \n",
    "    sift = cv2.SIFT_create()\n",
    "    bf = cv2.BFMatcher()\n",
    "    points_3d = []\n",
    "    for [lb,rb] in bbox_matches:\n",
    "        lx_min = int(bboxes_left[lb,0])\n",
    "        ly_min = int(bboxes_left[lb,1])\n",
    "        lx_max = int(bboxes_left[lb,2])\n",
    "        ly_max = int(bboxes_left[lb,3])\n",
    "        rx_min = int(bboxes_right[rb,0])\n",
    "        ry_min = int(bboxes_right[rb,1])\n",
    "        rx_max = int(bboxes_right[rb,2])\n",
    "        ry_max = int(bboxes_right[rb,3])\n",
    "        bbox_left = im_left[ly_min:ly_max,lx_min:lx_max]\n",
    "        bbox_right = im_right[ry_min:ry_max,rx_min:rx_max]\n",
    "\n",
    "        kpl, desl = sift.detectAndCompute(bbox_left, None)\n",
    "        kpl = np.array([k.pt for k in kpl])\n",
    "        kpr, desr = sift.detectAndCompute(bbox_right, None)\n",
    "        matches = bf.match(desl, desr)\n",
    "        kpr = np.array([k.pt for k in kpr])\n",
    "        matches = sorted(matches, key = lambda x:x.distance)[:nb_matches]\n",
    "        matches = np.array([(m.queryIdx, m.trainIdx) for m in matches])\n",
    "\n",
    "        points_left = kpl[matches[:,0],:] + [lx_min, ly_min]\n",
    "        points_right = kpr[matches[:,1],:] + [rx_min, ry_min]\n",
    "\n",
    "        Q = cv2.triangulatePoints(P_left, P_right, points_left.T, points_right.T)\n",
    "        Q = Q[:-1]/Q[-1]    \n",
    "\n",
    "        Q = np.sum(Q, axis=1) / nb_matches\n",
    "        points_3d.append(Q)\n",
    "\n",
    "    return np.asarray(points_3d)"
   ]
  },
  {
   "cell_type": "code",
   "execution_count": 11,
   "metadata": {},
   "outputs": [
    {
     "data": {
      "text/plain": [
       "array([[     1.1423,   -0.030114,     -2.9072],\n",
       "       [     22.716,     -3.8501,      83.991],\n",
       "       [    0.19031,    0.067033,    -0.99974],\n",
       "       [    -2.4772,     0.29665,     -14.929]])"
      ]
     },
     "execution_count": 11,
     "metadata": {},
     "output_type": "execute_result"
    }
   ],
   "source": [
    "im_left = cv2.imread(str(img_left_path))\n",
    "im_right = cv2.imread(str(img_right_path))\n",
    "matches = np.array([row_ind, col_ind]).T\n",
    "bboxes_left = results_left_df.to_numpy()\n",
    "bboxes_right = results_right_df.to_numpy()\n",
    "mtx_left = np.array([[1.23004607e+03, 0, 6.87057482e+02],\n",
    "                     [0, 1.07447570e+03, 2.54142938e+02],\n",
    "                     [0, 0, 1]])\n",
    "mtx_right = np.array([[978.7638968, 0, 707.10302473],\n",
    "                      [0, 974.5535797, 260.05961915],\n",
    "                      [0, 0, 1]])\n",
    "left_cam_disp_x = -0.06\n",
    "right_cam_disp_x = 0.48\n",
    "\n",
    "triangulate(im_left, im_right, matches, bboxes_left, bboxes_right, mtx_left, mtx_right, left_cam_disp_x, right_cam_disp_x)"
   ]
  },
  {
   "cell_type": "code",
   "execution_count": null,
   "metadata": {},
   "outputs": [],
   "source": []
  }
 ],
 "metadata": {
  "kernelspec": {
   "display_name": "pfas_project",
   "language": "python",
   "name": "python3"
  },
  "language_info": {
   "codemirror_mode": {
    "name": "ipython",
    "version": 3
   },
   "file_extension": ".py",
   "mimetype": "text/x-python",
   "name": "python",
   "nbconvert_exporter": "python",
   "pygments_lexer": "ipython3",
   "version": "3.11.2"
  },
  "orig_nbformat": 4
 },
 "nbformat": 4,
 "nbformat_minor": 2
}

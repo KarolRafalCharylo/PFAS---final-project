{
 "cells": [
  {
   "cell_type": "code",
   "execution_count": 2,
   "metadata": {},
   "outputs": [],
   "source": [
    "import numpy as np\n",
    "import cv2\n",
    "import matplotlib.pyplot as plt\n",
    "import os"
   ]
  },
  {
   "cell_type": "code",
   "execution_count": 11,
   "metadata": {},
   "outputs": [],
   "source": [
    "folders = os.listdir('../data/raw/final_project/calib')\n",
    "\n",
    "max_nb = 15\n",
    "\n",
    "for folder in folders:\n",
    "    images = os.listdir('../data/raw/final_project/calib/'+folder+'/data')\n",
    "    \n",
    "    objpoints = []\n",
    "    imgpoints = []\n",
    "    \n",
    "    im = cv2.imread('../data/raw/final_project/calib/'+folder+'/data/'+images[0])\n",
    "    im_gray = cv2.cvtColor(im, cv2.COLOR_BGR2GRAY)\n",
    "    for v,h in zip([5,7,5], [7,11,15]): #np.flip(np.mgrid[5:max_nb+1,5:max_nb+1].T.reshape(-1,2)):\n",
    "        ret = True\n",
    "        while ret:\n",
    "            ret, corners = cv2.findChessboardCorners(im_gray, (v,h))\n",
    "            #if not ret: ret, corners = cv2.findChessboardCornersSB(im_gray, (v,h))\n",
    "            if not ret: break\n",
    "            \n",
    "            imgpoints.append(corners)\n",
    "            objp = np.zeros((h*v,3), np.float32)\n",
    "            objp[:,:2] = np.mgrid[0:v,0:h].T.reshape(-1,2)\n",
    "            objpoints.append(objp)\n",
    "            \n",
    "            start_x = int(np.min(corners[:,0].T[0]))\n",
    "            end_x = int(np.max(corners[:,0].T[0]))\n",
    "            start_y = int(np.min(corners[:,0].T[1]))\n",
    "            end_y = int(np.max(corners[:,0].T[1]))\n",
    "            im_gray = cv2.rectangle(im_gray, (start_x, start_y), (end_x, end_y), 0, -1)\n",
    "\n",
    "    cv2.imshow('im', im_gray)\n",
    "    cv2.waitKey(0)\n",
    "    cv2.destroyAllWindows()\n",
    "    \n",
    "    ret, mtx, dist, rvecs, tvecs = cv2.calibrateCamera(objpoints, imgpoints, im_gray.shape[::-1], None, None)\n",
    "\n",
    "    if not os.path.exists('../data/undistorted/'):\n",
    "        os.makedirs('../data/undistorted/')\n",
    "    for image in images:\n",
    "        im = cv2.imread('../data/raw/final_project/calib/'+folder+'/data/'+image)\n",
    "        im_gray = cv2.cvtColor(im, cv2.COLOR_BGR2GRAY)\n",
    "        h,w = im.shape[:2]\n",
    "        newcameramtx, roi = cv2.getOptimalNewCameraMatrix(mtx,dist,(w,h),1,(w,h))\n",
    "        dst = cv2.undistort(im, mtx, dist, None, newcameramtx)\n",
    "\n",
    "        if not os.path.exists('../data/undistorted/'+os.path.split(folder)[-1]):\n",
    "            os.makedirs('../data/undistorted/'+os.path.split(folder)[-1])\n",
    "        cv2.imwrite('../data/undistorted/'+os.path.split(folder)[-1]+'/'+os.path.split(image)[-1], dst)"
   ]
  },
  {
   "cell_type": "code",
   "execution_count": 2,
   "metadata": {},
   "outputs": [],
   "source": []
  },
  {
   "cell_type": "code",
   "execution_count": null,
   "metadata": {},
   "outputs": [],
   "source": []
  }
 ],
 "metadata": {
  "kernelspec": {
   "display_name": "pfas_project",
   "language": "python",
   "name": "python3"
  },
  "language_info": {
   "codemirror_mode": {
    "name": "ipython",
    "version": 3
   },
   "file_extension": ".py",
   "mimetype": "text/x-python",
   "name": "python",
   "nbconvert_exporter": "python",
   "pygments_lexer": "ipython3",
   "version": "3.11.2"
  },
  "orig_nbformat": 4,
  "vscode": {
   "interpreter": {
    "hash": "6c3b376086c63f555095058b95e42cb4a9be510a264f9d5938d3aec9df01ffed"
   }
  }
 },
 "nbformat": 4,
 "nbformat_minor": 2
}

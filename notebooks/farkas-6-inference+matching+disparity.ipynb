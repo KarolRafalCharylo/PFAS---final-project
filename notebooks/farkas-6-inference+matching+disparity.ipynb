{
 "cells": [
  {
   "cell_type": "code",
   "execution_count": 1,
   "metadata": {},
   "outputs": [],
   "source": [
    "import torch\n",
    "from pathlib import Path\n",
    "import numpy as np\n",
    "import scipy\n",
    "import pandas as pd\n",
    "import cv2\n",
    "import matplotlib.pyplot as plt"
   ]
  },
  {
   "cell_type": "code",
   "execution_count": 2,
   "metadata": {},
   "outputs": [
    {
     "name": "stderr",
     "output_type": "stream",
     "text": [
      "Downloading: \"https://github.com/ultralytics/yolov5/zipball/master\" to C:\\Users\\jakab/.cache\\torch\\hub\\master.zip\n",
      "YOLOv5  2023-5-3 Python-3.11.2 torch-2.0.0+cpu CPU\n",
      "\n",
      "Fusing layers... \n"
     ]
    },
    {
     "name": "stdout",
     "output_type": "stream",
     "text": [
      "\u001b[31m\u001b[1mrequirements:\u001b[0m C:\\Users\\jakab\\.cache\\torch\\hub\\requirements.txt not found, check failed.\n"
     ]
    },
    {
     "name": "stderr",
     "output_type": "stream",
     "text": [
      "YOLOv5s summary: 157 layers, 7018216 parameters, 0 gradients\n",
      "Adding AutoShape... \n"
     ]
    }
   ],
   "source": [
    "root_dir = Path.cwd().parent\n",
    "data_dir = root_dir / 'data'\n",
    "model_dir = root_dir / 'models'\n",
    "\n",
    "model = torch.hub.load('ultralytics/yolov5', 'custom', path=model_dir / 'best.pt', force_reload=True)\n",
    "\n",
    "model.eval();\n",
    "\n",
    "img_left_path = data_dir / \"raw/final_project_2023_rect/seq_03/image_02/data/0000000005.png\"  # or file, Path, PIL, OpenCV, numpy, list\n",
    "img_right_path = data_dir / \"raw/final_project_2023_rect/seq_03/image_03/data/0000000005.png\"  # or file, Path, PIL, OpenCV, numpy, list\n",
    "\n",
    "img_left = cv2.imread(str(img_left_path))\n",
    "img_right = cv2.imread(str(img_right_path))\n",
    "\n",
    "# Inference\n",
    "results = model([img_left, img_right])\n",
    "\n",
    "# Results\n",
    "r = results.pandas().xyxy\n",
    "\n",
    "results_left_df = r[0]\n",
    "results_right_df = r[1]"
   ]
  },
  {
   "cell_type": "code",
   "execution_count": 3,
   "metadata": {},
   "outputs": [],
   "source": [
    "def match_objects(\n",
    "    results_left_df: pd.DataFrame,\n",
    "    results_right_df: pd.DataFrame,\n",
    "    img_left_path: Path,\n",
    "    img_right_path: Path,\n",
    ") -> pd.DataFrame:\n",
    "    \"\"\"Match objects from left and right images.\n",
    "\n",
    "    Args:\n",
    "        results_left_df (pd.DataFrame): Results from left image.\n",
    "        results_right_df (pd.DataFrame): Results from right image.\n",
    "        calib_file (str): Path to calibration file.\n",
    "\n",
    "    Returns:\n",
    "        pd.DataFrame: Matched objects.\n",
    "    \"\"\"\n",
    "\n",
    "    # read images and convert to gray\n",
    "    img_left = cv2.imread(str(img_left_path))\n",
    "    img_left_gray = cv2.cvtColor(img_left, cv2.COLOR_RGB2GRAY)\n",
    "    img_right = cv2.imread(str(img_right_path))\n",
    "    img_right_gray = cv2.cvtColor(img_right, cv2.COLOR_BGR2GRAY)\n",
    "    \n",
    "    nb_matches = 20\n",
    "    sift = cv2.SIFT_create()\n",
    "    bf = cv2.BFMatcher()\n",
    "    im_height = img_left.shape[0]\n",
    "    match_matrix = np.zeros((len(results_left_df.index), len(results_right_df.index)))\n",
    "    for i1, bbox1 in results_left_df.iterrows():\n",
    "        for i2, bbox2 in results_right_df.iterrows():\n",
    "            cy1 = bbox1[\"ymin\"] + bbox1[\"ymax\"] / 2\n",
    "            cy2 = bbox2[\"ymin\"] + bbox2[\"ymax\"] / 2\n",
    "            if abs(cy1 - cy2) / im_height <= 0.1 and bbox1[5] == bbox2[5]:\n",
    "                bbox1_im = img_left_gray[\n",
    "                    int(bbox1[\"ymin\"]) : int(bbox1[\"ymax\"]),\n",
    "                    int(bbox1[\"xmin\"]) : int(bbox1[\"xmax\"]),\n",
    "                ]\n",
    "                bbox2_im = img_right_gray[\n",
    "                    int(bbox2[\"ymin\"]) : int(bbox2[\"ymax\"]),\n",
    "                    int(bbox2[\"xmin\"]) : int(bbox2[\"xmax\"]),\n",
    "                ]\n",
    "                _, des1 = sift.detectAndCompute(bbox1_im, None)\n",
    "                _, des2 = sift.detectAndCompute(bbox2_im, None)\n",
    "                matches = bf.match(des1, des2)\n",
    "                matches = sorted(matches, key=lambda x: x.distance)[:nb_matches]\n",
    "                for m in matches:\n",
    "                    match_matrix[i1, i2] += m.distance\n",
    "            else:\n",
    "                match_matrix[i1, i2] = 1e12\n",
    "    row_ind, col_ind = scipy.optimize.linear_sum_assignment(match_matrix)\n",
    "\n",
    "    return row_ind, col_ind"
   ]
  },
  {
   "cell_type": "code",
   "execution_count": 18,
   "metadata": {},
   "outputs": [
    {
     "name": "stdout",
     "output_type": "stream",
     "text": [
      "[0 1 2 3] [1 3 2 0]\n"
     ]
    }
   ],
   "source": [
    "row_ind, col_ind = match_objects(\n",
    "    r[0],\n",
    "    r[1],\n",
    "    img_left_path,\n",
    "    img_right_path,\n",
    ")\n",
    "bboxes_left = results_left_df.to_numpy()[row_ind]\n",
    "bboxes_right = results_right_df.to_numpy()[col_ind]"
   ]
  },
  {
   "cell_type": "code",
   "execution_count": 5,
   "metadata": {},
   "outputs": [],
   "source": [
    "im_left = cv2.imread(str(img_left_path))\n",
    "im_left = cv2.cvtColor(im_left, cv2.COLOR_BGR2GRAY)\n",
    "im_right = cv2.imread(str(img_right_path))\n",
    "im_right = cv2.cvtColor(im_right, cv2.COLOR_BGR2GRAY)\n",
    "\n",
    "min_disp = 3\n",
    "num_disp = 5 * 16\n",
    "block_size = 31\n",
    "\n",
    "stereo = cv2.StereoBM_create(numDisparities = num_disp, blockSize = block_size)\n",
    "stereo.setMinDisparity(min_disp)\n",
    "stereo.setDisp12MaxDiff(200)\n",
    "stereo.setUniquenessRatio(1)\n",
    "stereo.setSpeckleRange(3)\n",
    "stereo.setSpeckleWindowSize(3)\n",
    "\n",
    "disp = stereo.compute(im_left, im_right).astype(np.float32) / 16.0\n",
    "\n"
   ]
  },
  {
   "cell_type": "code",
   "execution_count": 23,
   "metadata": {},
   "outputs": [
    {
     "name": "stdout",
     "output_type": "stream",
     "text": [
      "[[0.0 201.5142059326172 297.4330749511719 370.0 0.9782201051712036 0 'Car']\n",
      " [1000.9168090820312 151.6439666748047 1076.9569091796875 295.646484375 0.9333688020706177 1 'Pedestrian']\n",
      " [446.2646789550781 172.99713134765625 483.6410217285156 198.6333770751953 0.927031397819519 0 'Car']\n",
      " [867.9674072265625 167.97006225585938 917.901123046875 276.0589599609375 0.8357637524604797 0 'Car']]\n",
      "[[0.0 195.32542419433594 233.25775146484375 367.4632568359375 0.9502115249633789 0 'Car']\n",
      " [958.6746826171875 145.0343780517578 1032.8818359375 297.6231384277344 0.9045212268829346 1 'Pedestrian']\n",
      " [438.0471496582031 173.0842742919922 475.4096374511719 199.05380249023438 0.9435446858406067 0 'Car']\n",
      " [788.3722534179688 153.4276885986328 893.1302490234375 277.1434631347656 0.9533413648605347 2 'Cyclist']]\n"
     ]
    }
   ],
   "source": [
    "bboxes_left = results_left_df.to_numpy()[row_ind]\n",
    "bboxes_right = results_right_df.to_numpy()[col_ind]\n",
    "\n",
    "print(bboxes_left)\n",
    "print(bboxes_right)"
   ]
  },
  {
   "cell_type": "code",
   "execution_count": null,
   "metadata": {},
   "outputs": [],
   "source": []
  }
 ],
 "metadata": {
  "kernelspec": {
   "display_name": "pfas_project",
   "language": "python",
   "name": "python3"
  },
  "language_info": {
   "codemirror_mode": {
    "name": "ipython",
    "version": 3
   },
   "file_extension": ".py",
   "mimetype": "text/x-python",
   "name": "python",
   "nbconvert_exporter": "python",
   "pygments_lexer": "ipython3",
   "version": "3.11.2"
  },
  "orig_nbformat": 4
 },
 "nbformat": 4,
 "nbformat_minor": 2
}

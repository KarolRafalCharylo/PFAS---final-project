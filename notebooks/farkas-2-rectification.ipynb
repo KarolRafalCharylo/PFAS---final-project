{
 "cells": [
  {
   "cell_type": "code",
   "execution_count": 23,
   "metadata": {},
   "outputs": [],
   "source": [
    "import numpy as np\n",
    "import cv2\n",
    "import matplotlib.pyplot as plt\n",
    "import os\n",
    "from pathlib import Path"
   ]
  },
  {
   "cell_type": "code",
   "execution_count": 24,
   "metadata": {},
   "outputs": [],
   "source": [
    "root_dir = Path().cwd().parent\n",
    "interim_dir = root_dir / 'data/interim'\n",
    "undistorted_dir = interim_dir / 'undistorted'\n",
    "rectified_dir = interim_dir / 'rectified'\n",
    "rectified_dir.mkdir(parents=True, exist_ok=True)"
   ]
  },
  {
   "cell_type": "code",
   "execution_count": 27,
   "metadata": {},
   "outputs": [],
   "source": [
    "def rectifyImages(img1, img2, nb_matches=200):\n",
    "    img1_gray = cv2.cvtColor(img1, cv2.COLOR_BGR2GRAY)\n",
    "    img2_gray = cv2.cvtColor(img2, cv2.COLOR_BGR2GRAY)\n",
    "    sift = cv2.SIFT_create()\n",
    "    kp1, des1 = sift.detectAndCompute(img1_gray, None)\n",
    "    kp2, des2 = sift.detectAndCompute(img2_gray, None)\n",
    "    bf = cv2.BFMatcher()\n",
    "    matches = bf.match(des1, des2)\n",
    "    matches = sorted(matches, key = lambda x:x.distance)\n",
    "    pts1 = []\n",
    "    pts2 = []\n",
    "    for m in matches[:nb_matches]:\n",
    "        pts1.append(kp1[m.queryIdx].pt)\n",
    "        pts2.append(kp2[m.trainIdx].pt)\n",
    "    pts1 = np.int32(pts1)\n",
    "    pts2 = np.int32(pts2)\n",
    "    F, mask = cv2.findFundamentalMat(pts1, pts2, cv2.FM_RANSAC, ransacReprojThreshold=1, confidence=0.95)\n",
    "    pts1 = pts1[mask.ravel() == 1]\n",
    "    pts2 = pts2[mask.ravel() == 1]\n",
    "    ret, H1, H2 = cv2.stereoRectifyUncalibrated(np.float32(pts1), np.float32(pts2), F, imgSize=img1_gray.shape)\n",
    "    if ret:\n",
    "        img1_rect = cv2.warpPerspective(img1, H1, (img1_gray.shape[1], img1_gray.shape[0]))\n",
    "        img2_rect = cv2.warpPerspective(img2, H2, (img2_gray.shape[1], img2_gray.shape[0]))\n",
    "        return img1_rect, img2_rect\n",
    "    else:\n",
    "        return None, None"
   ]
  },
  {
   "cell_type": "code",
   "execution_count": 28,
   "metadata": {},
   "outputs": [],
   "source": [
    "folders = os.listdir(root_dir / 'data/interim/undistorted/seq_01')\n",
    "images = os.listdir(root_dir / 'data/interim/undistorted/seq_01' / folders[0])[:3]\n",
    "\n",
    "for k, image in enumerate(images):\n",
    "    im1 = cv2.imread(str(root_dir / 'data/interim/undistorted/seq_01' / folders[0] / image))\n",
    "    im2 = cv2.imread(str(root_dir / 'data/interim/undistorted/seq_01' / folders[1] / image))\n",
    "\n",
    "    im1_rect, im2_rect = rectifyImages(im1, im2)\n",
    "\n",
    "    if (k == 0):\n",
    "        fig, axs = plt.subplots(2, 2, figsize=(10,5))\n",
    "        axs[0, 0].imshow(cv2.cvtColor(im1, cv2.COLOR_BGR2RGB))\n",
    "        axs[0, 0].set_title('im1 undistorted')\n",
    "        axs[0, 1].imshow(cv2.cvtColor(im2, cv2.COLOR_BGR2RGB))\n",
    "        axs[0, 1].set_title('im2 undistorted')\n",
    "        axs[1, 0].imshow(cv2.cvtColor(im1_rect, cv2.COLOR_BGR2RGB))\n",
    "        axs[1, 0].set_title('im1 rectified')\n",
    "        axs[1, 1].imshow(cv2.cvtColor(im2_rect, cv2.COLOR_BGR2RGB))\n",
    "        axs[1, 1].set_title('im2 rectified')"
   ]
  },
  {
   "cell_type": "code",
   "execution_count": 43,
   "metadata": {},
   "outputs": [],
   "source": [
    "import numpy as np\n",
    "def Fest(points1, points2):\n",
    "    B = np.asarray([])\n",
    "    for x1i,y1i,x2i,y2i in zip(points1[0][1:],points1[1][1:],points2[0][1:],points2[1][1:]):\n",
    "        Bi = np.asarray([x1i*x2i,x1i*y2i,x1i,y1i*x2i,y1i*y2i,y1i,x2i,y2i,1])\n",
    "        if B.shape[0] == 0: B = Bi\n",
    "        else: B = np.vstack((B, Bi))\n",
    "    _, _, v = np.linalg.svd(B, full_matrices=True)\n",
    "    FTf = v[-1]\n",
    "    F = FTf.reshape(3,3).T\n",
    "    return F"
   ]
  },
  {
   "cell_type": "code",
   "execution_count": 33,
   "metadata": {},
   "outputs": [],
   "source": [
    "import cv2\n",
    "image1 = cv2.imread('../data/raw/final_project/calib/image_02/data/0000000000.png')\n",
    "image2 = cv2.imread('../data/raw/final_project/calib/image_03/data/0000000000.png')\n",
    "\n",
    "%matplotlib tk\n",
    "from matplotlib import pyplot as plt\n",
    "plt.rcParams['backend'] = 'TkAgg'\n",
    "plt.rcParams[\"figure.figsize\"] = [7.50, 3.50]\n",
    "plt.rcParams[\"figure.autolayout\"] = True\n",
    "\n",
    "coords1 = []\n",
    "def onclick1(event):\n",
    "   coords1.append([event.xdata, event.ydata])\n",
    "fig, ax = plt.subplots()\n",
    "ax.imshow(cv2.cvtColor(image1, cv2.COLOR_BGR2GRAY))\n",
    "fig.canvas.mpl_connect('button_press_event', onclick1)\n",
    "plt.show()\n",
    "\n",
    "coords2 = []\n",
    "def onclick2(event):\n",
    "   coords2.append([event.xdata, event.ydata])\n",
    "fig, ax = plt.subplots()\n",
    "ax.imshow(cv2.cvtColor(image2, cv2.COLOR_BGR2GRAY))\n",
    "fig.canvas.mpl_connect('button_press_event', onclick2)\n",
    "plt.show()"
   ]
  },
  {
   "cell_type": "code",
   "execution_count": 42,
   "metadata": {},
   "outputs": [
    {
     "name": "stdout",
     "output_type": "stream",
     "text": [
      "[[None 169.15445604061222 180.14098037807452 194.15827005000926\n",
      "  207.41786838832587 220.2986210598334 232.04283673091385\n",
      "  243.40820673518527 253.25819407222048 264.62356407649185\n",
      "  274.85239708033606 285.08123008418033 167.26022770656698\n",
      "  179.7621347112655 192.26404171596403 207.41786838832587\n",
      "  218.78323839259724 230.52745406367768 241.13513273433097\n",
      "  254.77357673945664 263.86587274287376 274.85239708033606\n",
      "  285.08123008418033 165.74484503933076 180.89867171169266\n",
      "  194.53711571681828 204.38710305385348 218.40439272578817\n",
      "  230.52745406367768 241.13513273433097 252.50050273860234\n",
      "  263.4870270760647 273.71586007990896 285.4600757509894\n",
      "  164.98715370571267 177.86790637722027 192.26404171596403\n",
      "  205.9024857210897 216.13131872493392 228.63322572963244\n",
      "  241.13513273433097 251.74281140498425 262.7293357424466\n",
      "  273.3370144130999 284.32353875056225 527.1636111751609\n",
      "  544.5905118483771 562.3962581884023 578.6866218611913 595.7346768675983\n",
      "  613.1615775408144 629.8307868804125 528.6789938423972 545.3482031819951\n",
      "  563.5327951888294 579.4443131948093 597.6289052016435 613.9192688744325\n",
      "  632.1038608812668 530.9520678432514 547.2424315160404 565.8058691896837\n",
      "  582.0962328624727 599.9019792024978 616.9500342089049 634.75578054893\n",
      "  531.3309135100604 548.7578141832765 566.9424061901108 585.5058438637541\n",
      "  602.9327445369702 617.707725542523 637.4077002165934 1120.8147710649364\n",
      "  1132.1801410692076 1145.0608937407153 1155.2897267445594\n",
      "  1165.8974054152127 1120.0570797313183 1131.8012954023986\n",
      "  1145.0608937407153 1153.3954984105142 1166.2762510820219\n",
      "  1119.678234064509 1132.1801410692076 1143.16666540667\n",
      "  1154.9108810777504 1165.8974054152127 1119.678234064509\n",
      "  1131.4224497355897 1142.7878197398609 1155.2897267445594\n",
      "  1165.8974054152127]\n",
      " [None 161.16742896454753 163.06165729859276 164.57703996582893\n",
      "  167.60780530030127 171.7751076352008 172.91164463562797\n",
      "  174.80587296967315 177.07894697052745 178.59432963776362\n",
      "  178.9731753045727 181.24624930542694 182.76163197266317\n",
      "  185.4135516403265 186.17124297394457 188.8231626416079\n",
      "  191.09623664246215 191.85392797608023 193.36931064331645\n",
      "  195.2635389773617 197.53661297821594 199.0519956454521\n",
      "  199.80968697907025 204.3558349807788 206.62890898163306\n",
      "  207.38660031525114 207.38660031525114 209.65967431610545\n",
      "  211.9327483169597 213.06928531738686 214.9635136514321\n",
      "  215.72120498505018 217.61543331909542 217.61543331909542\n",
      "  226.32888365570346 226.32888365570346 227.46542065613062\n",
      "  229.73849465698487 230.11734032379394 231.2538773242211\n",
      "  233.14810565826627 233.52695132507534 235.80002532592965\n",
      "  236.17887099273867 237.31540799316582 413.8574887261814\n",
      "  412.7209517257543 411.5844147253271 411.5844147253271 411.5844147253271\n",
      "  410.44787772489997 409.6901863912819 424.84401306364373\n",
      "  425.2228587304528 425.2228587304528 424.08632173002565\n",
      "  424.08632173002565 422.1920933959804 422.5709390627894\n",
      "  437.7247657351513 436.9670744015332 436.9670744015332 436.9670744015332\n",
      "  437.34592006834225 436.58822873472417 435.8305374011061\n",
      "  451.36320974027694 451.742055407086 450.22667273984985\n",
      "  450.98436407346793 449.4689814062317 449.8478270730408\n",
      "  448.3324444058046 275.95766600768854 276.33651167449756\n",
      "  275.95766600768854 277.4730486749247 276.7153573413066\n",
      "  288.8384186791961 288.8384186791961 289.21726434600515\n",
      "  289.21726434600515 289.21726434600515 300.2037886834675\n",
      "  300.5826343502765 300.5826343502765 300.5826343502765\n",
      "  301.34032568389466 314.2210783554022 313.4633870217841\n",
      "  313.8422326885932 312.70569568816603 313.08454135497504]]\n",
      "[[ 531.70975918   99.82569901  112.70645169  125.58720436  137.33142003\n",
      "   151.3487097   162.33523404  173.32175838  183.92943705  194.91596138\n",
      "   204.38710305  216.51016439   99.06800768  112.70645169  124.07182169\n",
      "   136.19488303  148.31794437  161.95638837  171.04868437  182.79290005\n",
      "   192.64288738  204.00825739  214.99478172   99.06800768  111.19106902\n",
      "   122.93528469  135.43719169  149.83332703  161.5775427   172.18522138\n",
      "   181.27751738  194.53711572  204.76594872  214.23709039   98.68916201\n",
      "   111.94876035  122.93528469  135.81603736  147.9390987   159.68331437\n",
      "   172.18522138  182.03520871  192.26404172  203.62941172  214.61593606\n",
      "   438.51372514  455.94062582  470.71560682  487.00597049  501.7809515\n",
      "   518.07131517  533.60398751  439.27141648  455.94062582  472.23098949\n",
      "   487.38481616  503.29633417  519.58669784  536.63475285  441.16564481\n",
      "   456.31947148  471.85214382  488.90019883  503.67517983  521.48092617\n",
      "   538.15013551  440.78679914  457.07716282  473.36752649  490.41558149\n",
      "   505.94825383  522.61746317  539.28667251 1021.55720636 1032.92257637\n",
      "  1044.28794637 1054.89562504 1070.04945171 1023.07258903 1033.30142203\n",
      "  1044.66679204 1056.03216204 1068.53406905 1021.93605203 1033.30142203\n",
      "  1044.66679204 1055.27447071 1067.39753204 1023.07258903 1032.16488503\n",
      "  1043.9091007  1056.78985337 1067.01868638]\n",
      " [  13.41761891  180.48855797  182.00394064  183.51932331  185.03470597\n",
      "   186.92893431  189.58085398  191.47508231  191.85392798  194.12700198\n",
      "   194.50584764  195.64238464  199.80968698  202.46160665  202.46160665\n",
      "   204.35583498  206.25006331  206.25006331  208.14429165  209.65967432\n",
      "   209.65967432  210.79621132  212.69043965  219.50966165  220.64619865\n",
      "   221.40388999  223.29811832  224.43465532  225.57119232  226.32888366\n",
      "   227.46542066  227.46542066  228.98080332  228.22311199  238.07309933\n",
      "   239.96732766  239.96732766  242.24040166  241.86155599  242.24040166\n",
      "   242.61924733  243.37693866  245.271167    246.78654966  246.407704\n",
      "   404.00750139  404.38634706  405.52288406  404.38634706  402.87096439\n",
      "   404.00750139  402.87096439  416.13056273  416.88825406  417.64594539\n",
      "   415.75171706  415.75171706  415.75171706  413.47864306  429.39016107\n",
      "   429.0113154   428.63246973  428.63246973  427.11708706  426.7382414\n",
      "   425.6017044   441.89206807  442.27091374  440.75553107  439.61899407\n",
      "   439.99783974  438.1036114   439.61899407  267.62306134  266.86537\n",
      "   266.86537     266.86537     266.86537     279.36727701  278.23074001\n",
      "   278.60958568  278.60958568  278.60958568  291.11149268  291.11149268\n",
      "   291.11149268  291.11149268  291.11149268  303.61339968  302.09801702\n",
      "   302.47686268  302.85570835  302.85570835]]\n"
     ]
    }
   ],
   "source": [
    "coords1 = np.asarray(coords1)[1:].T\n",
    "coords2 = np.asarray(coords2)[1:].T"
   ]
  },
  {
   "cell_type": "code",
   "execution_count": 44,
   "metadata": {},
   "outputs": [
    {
     "name": "stdout",
     "output_type": "stream",
     "text": [
      "[[-4.88275429e-07  2.05849860e-05 -6.64018295e-03]\n",
      " [-2.12782599e-05 -1.02457104e-06  1.51626924e-02]\n",
      " [ 7.40423539e-03 -1.21738641e-02 -9.99761459e-01]]\n"
     ]
    }
   ],
   "source": [
    "F = Fest(coords1, coords2)\n",
    "print(F)"
   ]
  },
  {
   "cell_type": "code",
   "execution_count": 50,
   "metadata": {},
   "outputs": [],
   "source": [
    "ret, H1, H2 = cv2.stereoRectifyUncalibrated(np.float32(coords1.T[1:]), np.float32(coords2.T[1:]), F, imgSize=image1.shape[:2])\n",
    "image1_rect = cv2.warpPerspective(image1, H1, (image1.shape[1], image1.shape[0]))\n",
    "image2_rect = cv2.warpPerspective(image2, H2, (image2.shape[1], image2.shape[0]))"
   ]
  },
  {
   "cell_type": "code",
   "execution_count": 51,
   "metadata": {},
   "outputs": [
    {
     "data": {
      "text/plain": [
       "Text(0.5, 1.0, 'im2 rectified')"
      ]
     },
     "execution_count": 51,
     "metadata": {},
     "output_type": "execute_result"
    }
   ],
   "source": [
    "fig, axs = plt.subplots(2, 2, figsize=(10,5))\n",
    "axs[0, 0].imshow(cv2.cvtColor(image1, cv2.COLOR_BGR2RGB))\n",
    "axs[0, 0].set_title('im1')\n",
    "axs[0, 1].imshow(cv2.cvtColor(image2, cv2.COLOR_BGR2RGB))\n",
    "axs[0, 1].set_title('im2')\n",
    "axs[1, 0].imshow(cv2.cvtColor(image1_rect, cv2.COLOR_BGR2RGB))\n",
    "axs[1, 0].set_title('im1 rectified')\n",
    "axs[1, 1].imshow(cv2.cvtColor(image2_rect, cv2.COLOR_BGR2RGB))\n",
    "axs[1, 1].set_title('im2 rectified')"
   ]
  },
  {
   "cell_type": "code",
   "execution_count": null,
   "metadata": {},
   "outputs": [],
   "source": []
  }
 ],
 "metadata": {
  "kernelspec": {
   "display_name": "pfas_project",
   "language": "python",
   "name": "python3"
  },
  "language_info": {
   "codemirror_mode": {
    "name": "ipython",
    "version": 3
   },
   "file_extension": ".py",
   "mimetype": "text/x-python",
   "name": "python",
   "nbconvert_exporter": "python",
   "pygments_lexer": "ipython3",
   "version": "3.11.2"
  },
  "orig_nbformat": 4
 },
 "nbformat": 4,
 "nbformat_minor": 2
}
